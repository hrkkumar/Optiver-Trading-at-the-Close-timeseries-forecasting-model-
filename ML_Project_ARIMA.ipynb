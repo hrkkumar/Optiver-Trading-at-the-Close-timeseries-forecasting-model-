{
  "nbformat": 4,
  "nbformat_minor": 0,
  "metadata": {
    "colab": {
      "provenance": [],
      "mount_file_id": "12Qx-yFHUxt2zn6pEWiiQJ731hhfaTxfH",
      "authorship_tag": "ABX9TyOEFE86rZJ0GPjVmYLIoIX6",
      "include_colab_link": true
    },
    "kernelspec": {
      "name": "python3",
      "display_name": "Python 3"
    },
    "language_info": {
      "name": "python"
    }
  },
  "cells": [
    {
      "cell_type": "markdown",
      "metadata": {
        "id": "view-in-github",
        "colab_type": "text"
      },
      "source": [
        "<a href=\"https://colab.research.google.com/github/HrisheekAsanabada/CMPE257-Fall23-Project-Optiver-Trading-at-the-Close/blob/017422717/ML_Project_ARIMA.ipynb\" target=\"_parent\"><img src=\"https://colab.research.google.com/assets/colab-badge.svg\" alt=\"Open In Colab\"/></a>"
      ]
    },
    {
      "cell_type": "code",
      "source": [
        "!pip install arch"
      ],
      "metadata": {
        "colab": {
          "base_uri": "https://localhost:8080/"
        },
        "id": "TF6gXfrl2_3i",
        "outputId": "1173017f-8c76-46da-c09b-5f80d1688ff6"
      },
      "execution_count": 1,
      "outputs": [
        {
          "output_type": "stream",
          "name": "stdout",
          "text": [
            "Collecting arch\n",
            "  Downloading arch-6.2.0-cp310-cp310-manylinux_2_17_x86_64.manylinux2014_x86_64.whl (981 kB)\n",
            "\u001b[2K     \u001b[90m━━━━━━━━━━━━━━━━━━━━━━━━━━━━━━━━━━━━━━━━\u001b[0m \u001b[32m981.7/981.7 kB\u001b[0m \u001b[31m8.8 MB/s\u001b[0m eta \u001b[36m0:00:00\u001b[0m\n",
            "\u001b[?25hRequirement already satisfied: numpy>=1.19 in /usr/local/lib/python3.10/dist-packages (from arch) (1.23.5)\n",
            "Requirement already satisfied: scipy>=1.5 in /usr/local/lib/python3.10/dist-packages (from arch) (1.11.4)\n",
            "Requirement already satisfied: pandas>=1.1 in /usr/local/lib/python3.10/dist-packages (from arch) (1.5.3)\n",
            "Requirement already satisfied: statsmodels>=0.12 in /usr/local/lib/python3.10/dist-packages (from arch) (0.14.0)\n",
            "Requirement already satisfied: python-dateutil>=2.8.1 in /usr/local/lib/python3.10/dist-packages (from pandas>=1.1->arch) (2.8.2)\n",
            "Requirement already satisfied: pytz>=2020.1 in /usr/local/lib/python3.10/dist-packages (from pandas>=1.1->arch) (2023.3.post1)\n",
            "Requirement already satisfied: patsy>=0.5.2 in /usr/local/lib/python3.10/dist-packages (from statsmodels>=0.12->arch) (0.5.4)\n",
            "Requirement already satisfied: packaging>=21.3 in /usr/local/lib/python3.10/dist-packages (from statsmodels>=0.12->arch) (23.2)\n",
            "Requirement already satisfied: six in /usr/local/lib/python3.10/dist-packages (from patsy>=0.5.2->statsmodels>=0.12->arch) (1.16.0)\n",
            "Installing collected packages: arch\n",
            "Successfully installed arch-6.2.0\n"
          ]
        }
      ]
    },
    {
      "cell_type": "markdown",
      "source": [
        "Implementing ARIMA model for a single stock"
      ],
      "metadata": {
        "id": "pSxgX0gWPh8k"
      }
    },
    {
      "cell_type": "code",
      "execution_count": 2,
      "metadata": {
        "colab": {
          "base_uri": "https://localhost:8080/"
        },
        "id": "rXTRCRqS1QsU",
        "outputId": "cfc0bbb6-8a65-4de2-c14b-193542cfe558"
      },
      "outputs": [
        {
          "output_type": "stream",
          "name": "stdout",
          "text": [
            "Training set date range: 0 -- 6\n",
            "Validation set date range: 7 -- 7\n"
          ]
        },
        {
          "output_type": "stream",
          "name": "stderr",
          "text": [
            "/usr/local/lib/python3.10/dist-packages/statsmodels/base/model.py:607: ConvergenceWarning: Maximum Likelihood optimization failed to converge. Check mle_retvals\n",
            "  warnings.warn(\"Maximum Likelihood optimization failed to \"\n",
            "/usr/local/lib/python3.10/dist-packages/statsmodels/tsa/base/tsa_model.py:473: ValueWarning: An unsupported index was provided and will be ignored when e.g. forecasting.\n",
            "  self._init_dates(dates, freq)\n",
            "/usr/local/lib/python3.10/dist-packages/statsmodels/tsa/base/tsa_model.py:473: ValueWarning: An unsupported index was provided and will be ignored when e.g. forecasting.\n",
            "  self._init_dates(dates, freq)\n",
            "/usr/local/lib/python3.10/dist-packages/statsmodels/tsa/base/tsa_model.py:473: ValueWarning: An unsupported index was provided and will be ignored when e.g. forecasting.\n",
            "  self._init_dates(dates, freq)\n"
          ]
        },
        {
          "output_type": "stream",
          "name": "stdout",
          "text": [
            "[-4.35310482 -3.2706266  -2.67613122 -2.06256964 -2.08271601 -0.80803274\n",
            " -0.9202005  -0.82792022 -0.84320803 -0.83590405 -0.83752905 -0.83691485\n",
            " -0.83707348 -0.83701992 -0.83703484 -0.83703008 -0.83703146 -0.83703103\n",
            " -0.83703116 -0.83703112 -0.83703113 -0.83703113 -0.83703113 -0.83703113\n",
            " -0.83703113 -0.83703113 -0.83703113 -0.83703113 -0.83703113 -0.83703113\n",
            " -0.83703113 -0.83703113 -0.83703113 -0.83703113 -0.83703113 -0.83703113\n",
            " -0.83703113 -0.83703113 -0.83703113 -0.83703113 -0.83703113 -0.83703113\n",
            " -0.83703113 -0.83703113 -0.83703113 -0.83703113 -0.83703113 -0.83703113\n",
            " -0.83703113 -0.83703113 -0.83703113 -0.83703113 -0.83703113 -0.83703113\n",
            " -0.83703113] 2.9014688425401753\n",
            "Training set date range: 8 -- 14\n",
            "Validation set date range: 15 -- 15\n"
          ]
        },
        {
          "output_type": "stream",
          "name": "stderr",
          "text": [
            "/usr/local/lib/python3.10/dist-packages/statsmodels/base/model.py:607: ConvergenceWarning: Maximum Likelihood optimization failed to converge. Check mle_retvals\n",
            "  warnings.warn(\"Maximum Likelihood optimization failed to \"\n",
            "/usr/local/lib/python3.10/dist-packages/statsmodels/tsa/base/tsa_model.py:836: ValueWarning: No supported index is available. Prediction results will be given with an integer index beginning at `start`.\n",
            "  return get_prediction_index(\n",
            "/usr/local/lib/python3.10/dist-packages/statsmodels/tsa/base/tsa_model.py:473: ValueWarning: An unsupported index was provided and will be ignored when e.g. forecasting.\n",
            "  self._init_dates(dates, freq)\n",
            "/usr/local/lib/python3.10/dist-packages/statsmodels/tsa/base/tsa_model.py:473: ValueWarning: An unsupported index was provided and will be ignored when e.g. forecasting.\n",
            "  self._init_dates(dates, freq)\n",
            "/usr/local/lib/python3.10/dist-packages/statsmodels/tsa/base/tsa_model.py:473: ValueWarning: An unsupported index was provided and will be ignored when e.g. forecasting.\n",
            "  self._init_dates(dates, freq)\n"
          ]
        },
        {
          "output_type": "stream",
          "name": "stdout",
          "text": [
            "[ 1.75394863  0.5766537   1.11818798  1.27320603 -0.22706863 -0.97220319\n",
            " -0.42782241 -0.39599494 -0.531298   -0.50342787 -0.47913277 -0.49197233\n",
            " -0.49429088 -0.49069068 -0.49108893 -0.49182494 -0.49154004 -0.49144265\n",
            " -0.49153452 -0.49153327 -0.49151217 -0.49151796 -0.49152138 -0.49151913\n",
            " -0.49151892 -0.4915195  -0.4915194  -0.49151929 -0.49151934 -0.49151935\n",
            " -0.49151934 -0.49151934 -0.49151934 -0.49151934 -0.49151934 -0.49151934\n",
            " -0.49151934 -0.49151934 -0.49151934 -0.49151934 -0.49151934 -0.49151934\n",
            " -0.49151934 -0.49151934 -0.49151934 -0.49151934 -0.49151934 -0.49151934\n",
            " -0.49151934 -0.49151934 -0.49151934 -0.49151934 -0.49151934 -0.49151934\n",
            " -0.49151934] 2.0856223593096015\n",
            "Training set date range: 16 -- 22\n",
            "Validation set date range: 23 -- 23\n"
          ]
        },
        {
          "output_type": "stream",
          "name": "stderr",
          "text": [
            "/usr/local/lib/python3.10/dist-packages/statsmodels/base/model.py:607: ConvergenceWarning: Maximum Likelihood optimization failed to converge. Check mle_retvals\n",
            "  warnings.warn(\"Maximum Likelihood optimization failed to \"\n",
            "/usr/local/lib/python3.10/dist-packages/statsmodels/tsa/base/tsa_model.py:836: ValueWarning: No supported index is available. Prediction results will be given with an integer index beginning at `start`.\n",
            "  return get_prediction_index(\n",
            "/usr/local/lib/python3.10/dist-packages/statsmodels/tsa/base/tsa_model.py:473: ValueWarning: An unsupported index was provided and will be ignored when e.g. forecasting.\n",
            "  self._init_dates(dates, freq)\n",
            "/usr/local/lib/python3.10/dist-packages/statsmodels/tsa/base/tsa_model.py:473: ValueWarning: An unsupported index was provided and will be ignored when e.g. forecasting.\n",
            "  self._init_dates(dates, freq)\n",
            "/usr/local/lib/python3.10/dist-packages/statsmodels/tsa/base/tsa_model.py:473: ValueWarning: An unsupported index was provided and will be ignored when e.g. forecasting.\n",
            "  self._init_dates(dates, freq)\n"
          ]
        },
        {
          "output_type": "stream",
          "name": "stdout",
          "text": [
            "[3.800695   2.67580235 2.88156512 1.27711204 0.49127141 0.90965943\n",
            " 0.97762062 0.9077615  0.90578506 0.91636404 0.9154314  0.9139721\n",
            " 0.91427932 0.91445994 0.9143935  0.91437443 0.91438649 0.91438791\n",
            " 0.91438596 0.91438598 0.91438626 0.91438623 0.91438619 0.9143862\n",
            " 0.91438621 0.9143862  0.9143862  0.9143862  0.9143862  0.9143862\n",
            " 0.9143862  0.9143862  0.9143862  0.9143862  0.9143862  0.9143862\n",
            " 0.9143862  0.9143862  0.9143862  0.9143862  0.9143862  0.9143862\n",
            " 0.9143862  0.9143862  0.9143862  0.9143862  0.9143862  0.9143862\n",
            " 0.9143862  0.9143862  0.9143862  0.9143862  0.9143862  0.9143862\n",
            " 0.9143862 ] 2.170830923174141\n",
            "Training set date range: 24 -- 30\n",
            "Validation set date range: 31 -- 31\n"
          ]
        },
        {
          "output_type": "stream",
          "name": "stderr",
          "text": [
            "/usr/local/lib/python3.10/dist-packages/statsmodels/tsa/base/tsa_model.py:836: ValueWarning: No supported index is available. Prediction results will be given with an integer index beginning at `start`.\n",
            "  return get_prediction_index(\n",
            "/usr/local/lib/python3.10/dist-packages/statsmodels/tsa/base/tsa_model.py:473: ValueWarning: An unsupported index was provided and will be ignored when e.g. forecasting.\n",
            "  self._init_dates(dates, freq)\n",
            "/usr/local/lib/python3.10/dist-packages/statsmodels/tsa/base/tsa_model.py:473: ValueWarning: An unsupported index was provided and will be ignored when e.g. forecasting.\n",
            "  self._init_dates(dates, freq)\n",
            "/usr/local/lib/python3.10/dist-packages/statsmodels/tsa/base/tsa_model.py:473: ValueWarning: An unsupported index was provided and will be ignored when e.g. forecasting.\n",
            "  self._init_dates(dates, freq)\n"
          ]
        },
        {
          "output_type": "stream",
          "name": "stdout",
          "text": [
            "[-1.42115469 -0.32962122  0.22632305  0.71285571  0.82071703 -0.44448883\n",
            " -0.47187384 -0.30389278 -0.29851942 -0.32080431 -0.32174862 -0.31879462\n",
            " -0.31863859 -0.31902984 -0.31905462 -0.31900285 -0.31899902 -0.31900586\n",
            " -0.31900644 -0.31900554 -0.31900545 -0.31900557 -0.31900558 -0.31900557\n",
            " -0.31900557 -0.31900557 -0.31900557 -0.31900557 -0.31900557 -0.31900557\n",
            " -0.31900557 -0.31900557 -0.31900557 -0.31900557 -0.31900557 -0.31900557\n",
            " -0.31900557 -0.31900557 -0.31900557 -0.31900557 -0.31900557 -0.31900557\n",
            " -0.31900557 -0.31900557 -0.31900557 -0.31900557 -0.31900557 -0.31900557\n",
            " -0.31900557 -0.31900557 -0.31900557 -0.31900557 -0.31900557 -0.31900557\n",
            " -0.31900557] 4.5820347192427775\n",
            "Training set date range: 32 -- 38\n",
            "Validation set date range: 39 -- 39\n"
          ]
        },
        {
          "output_type": "stream",
          "name": "stderr",
          "text": [
            "/usr/local/lib/python3.10/dist-packages/statsmodels/base/model.py:607: ConvergenceWarning: Maximum Likelihood optimization failed to converge. Check mle_retvals\n",
            "  warnings.warn(\"Maximum Likelihood optimization failed to \"\n",
            "/usr/local/lib/python3.10/dist-packages/statsmodels/tsa/base/tsa_model.py:836: ValueWarning: No supported index is available. Prediction results will be given with an integer index beginning at `start`.\n",
            "  return get_prediction_index(\n",
            "/usr/local/lib/python3.10/dist-packages/statsmodels/tsa/base/tsa_model.py:473: ValueWarning: An unsupported index was provided and will be ignored when e.g. forecasting.\n",
            "  self._init_dates(dates, freq)\n",
            "/usr/local/lib/python3.10/dist-packages/statsmodels/tsa/base/tsa_model.py:473: ValueWarning: An unsupported index was provided and will be ignored when e.g. forecasting.\n",
            "  self._init_dates(dates, freq)\n",
            "/usr/local/lib/python3.10/dist-packages/statsmodels/tsa/base/tsa_model.py:473: ValueWarning: An unsupported index was provided and will be ignored when e.g. forecasting.\n",
            "  self._init_dates(dates, freq)\n"
          ]
        },
        {
          "output_type": "stream",
          "name": "stdout",
          "text": [
            "[ 5.9953678   5.26465009  5.91117205  3.19529308  1.51483353 -0.06067137\n",
            "  0.26983011  0.45474512  0.39838069  0.37789219  0.38674109  0.38883123\n",
            "  0.38751986  0.38733488  0.3875206   0.38753215  0.38750687  0.38750709\n",
            "  0.38751041  0.38751015  0.38750973  0.38750979  0.38750984  0.38750983\n",
            "  0.38750983  0.38750983  0.38750983  0.38750983  0.38750983  0.38750983\n",
            "  0.38750983  0.38750983  0.38750983  0.38750983  0.38750983  0.38750983\n",
            "  0.38750983  0.38750983  0.38750983  0.38750983  0.38750983  0.38750983\n",
            "  0.38750983  0.38750983  0.38750983  0.38750983  0.38750983  0.38750983\n",
            "  0.38750983  0.38750983  0.38750983  0.38750983  0.38750983  0.38750983\n",
            "  0.38750983] 2.9067187342628054\n",
            "Training set date range: 40 -- 45\n",
            "Validation set date range: 46 -- 46\n"
          ]
        },
        {
          "output_type": "stream",
          "name": "stderr",
          "text": [
            "/usr/local/lib/python3.10/dist-packages/statsmodels/tsa/base/tsa_model.py:836: ValueWarning: No supported index is available. Prediction results will be given with an integer index beginning at `start`.\n",
            "  return get_prediction_index(\n",
            "/usr/local/lib/python3.10/dist-packages/statsmodels/tsa/base/tsa_model.py:473: ValueWarning: An unsupported index was provided and will be ignored when e.g. forecasting.\n",
            "  self._init_dates(dates, freq)\n",
            "/usr/local/lib/python3.10/dist-packages/statsmodels/tsa/base/tsa_model.py:473: ValueWarning: An unsupported index was provided and will be ignored when e.g. forecasting.\n",
            "  self._init_dates(dates, freq)\n",
            "/usr/local/lib/python3.10/dist-packages/statsmodels/tsa/base/tsa_model.py:473: ValueWarning: An unsupported index was provided and will be ignored when e.g. forecasting.\n",
            "  self._init_dates(dates, freq)\n"
          ]
        },
        {
          "output_type": "stream",
          "name": "stdout",
          "text": [
            "[ 2.92060042  1.61969037  0.83257664  0.88118673  0.87564924 -0.67729583\n",
            " -0.44676446 -0.27105653 -0.32820249 -0.34348676 -0.33350421 -0.33291623\n",
            " -0.33435197 -0.33421897 -0.33404467 -0.33408843 -0.3341055  -0.33409706\n",
            " -0.33409601 -0.3340973  -0.33409725 -0.33409709 -0.33409712 -0.33409714\n",
            " -0.33409713 -0.33409713 -0.33409713 -0.33409713 -0.33409713 -0.33409713\n",
            " -0.33409713 -0.33409713 -0.33409713 -0.33409713 -0.33409713 -0.33409713\n",
            " -0.33409713 -0.33409713 -0.33409713 -0.33409713 -0.33409713 -0.33409713\n",
            " -0.33409713 -0.33409713 -0.33409713 -0.33409713 -0.33409713 -0.33409713\n",
            " -0.33409713 -0.33409713 -0.33409713 -0.33409713 -0.33409713 -0.33409713\n",
            " -0.33409713] 4.897734770160579\n",
            "Training set date range: 47 -- 52\n",
            "Validation set date range: 53 -- 53\n"
          ]
        },
        {
          "output_type": "stream",
          "name": "stderr",
          "text": [
            "/usr/local/lib/python3.10/dist-packages/statsmodels/base/model.py:607: ConvergenceWarning: Maximum Likelihood optimization failed to converge. Check mle_retvals\n",
            "  warnings.warn(\"Maximum Likelihood optimization failed to \"\n",
            "/usr/local/lib/python3.10/dist-packages/statsmodels/tsa/base/tsa_model.py:836: ValueWarning: No supported index is available. Prediction results will be given with an integer index beginning at `start`.\n",
            "  return get_prediction_index(\n",
            "/usr/local/lib/python3.10/dist-packages/statsmodels/tsa/base/tsa_model.py:473: ValueWarning: An unsupported index was provided and will be ignored when e.g. forecasting.\n",
            "  self._init_dates(dates, freq)\n",
            "/usr/local/lib/python3.10/dist-packages/statsmodels/tsa/base/tsa_model.py:473: ValueWarning: An unsupported index was provided and will be ignored when e.g. forecasting.\n",
            "  self._init_dates(dates, freq)\n",
            "/usr/local/lib/python3.10/dist-packages/statsmodels/tsa/base/tsa_model.py:473: ValueWarning: An unsupported index was provided and will be ignored when e.g. forecasting.\n",
            "  self._init_dates(dates, freq)\n"
          ]
        },
        {
          "output_type": "stream",
          "name": "stdout",
          "text": [
            "[ 2.26879455  0.85559187  0.19532841  0.4476232  -0.27607602 -0.19044797\n",
            " -0.12881592 -0.1505314  -0.15288134 -0.1500433  -0.15035769 -0.15060369\n",
            " -0.15051999 -0.15051001 -0.15052114 -0.15051999 -0.15051901 -0.15051933\n",
            " -0.15051937 -0.15051933 -0.15051933 -0.15051934 -0.15051934 -0.15051934\n",
            " -0.15051934 -0.15051934 -0.15051934 -0.15051934 -0.15051934 -0.15051934\n",
            " -0.15051934 -0.15051934 -0.15051934 -0.15051934 -0.15051934 -0.15051934\n",
            " -0.15051934 -0.15051934 -0.15051934 -0.15051934 -0.15051934 -0.15051934\n",
            " -0.15051934 -0.15051934 -0.15051934 -0.15051934 -0.15051934 -0.15051934\n",
            " -0.15051934 -0.15051934 -0.15051934 -0.15051934 -0.15051934 -0.15051934\n",
            " -0.15051934] 4.711684941272965\n",
            "Training set date range: 54 -- 59\n",
            "Validation set date range: 60 -- 60\n"
          ]
        },
        {
          "output_type": "stream",
          "name": "stderr",
          "text": [
            "/usr/local/lib/python3.10/dist-packages/statsmodels/base/model.py:607: ConvergenceWarning: Maximum Likelihood optimization failed to converge. Check mle_retvals\n",
            "  warnings.warn(\"Maximum Likelihood optimization failed to \"\n",
            "/usr/local/lib/python3.10/dist-packages/statsmodels/tsa/base/tsa_model.py:836: ValueWarning: No supported index is available. Prediction results will be given with an integer index beginning at `start`.\n",
            "  return get_prediction_index(\n",
            "/usr/local/lib/python3.10/dist-packages/statsmodels/tsa/base/tsa_model.py:473: ValueWarning: An unsupported index was provided and will be ignored when e.g. forecasting.\n",
            "  self._init_dates(dates, freq)\n",
            "/usr/local/lib/python3.10/dist-packages/statsmodels/tsa/base/tsa_model.py:473: ValueWarning: An unsupported index was provided and will be ignored when e.g. forecasting.\n",
            "  self._init_dates(dates, freq)\n",
            "/usr/local/lib/python3.10/dist-packages/statsmodels/tsa/base/tsa_model.py:473: ValueWarning: An unsupported index was provided and will be ignored when e.g. forecasting.\n",
            "  self._init_dates(dates, freq)\n"
          ]
        },
        {
          "output_type": "stream",
          "name": "stdout",
          "text": [
            "[-0.75145878 -0.4497132  -0.54961073 -0.27573312 -0.50113016 -0.80125833\n",
            " -0.81959668 -0.83108149 -0.8321348  -0.8325862  -0.83263964 -0.83265779\n",
            " -0.83266034 -0.83266108 -0.8326612  -0.83266123 -0.83266123 -0.83266124\n",
            " -0.83266124 -0.83266124 -0.83266124 -0.83266124 -0.83266124 -0.83266124\n",
            " -0.83266124 -0.83266124 -0.83266124 -0.83266124 -0.83266124 -0.83266124\n",
            " -0.83266124 -0.83266124 -0.83266124 -0.83266124 -0.83266124 -0.83266124\n",
            " -0.83266124 -0.83266124 -0.83266124 -0.83266124 -0.83266124 -0.83266124\n",
            " -0.83266124 -0.83266124 -0.83266124 -0.83266124 -0.83266124 -0.83266124\n",
            " -0.83266124 -0.83266124 -0.83266124 -0.83266124 -0.83266124 -0.83266124\n",
            " -0.83266124] 4.310617031203779\n",
            "Training set date range: 61 -- 66\n",
            "Validation set date range: 67 -- 67\n"
          ]
        },
        {
          "output_type": "stream",
          "name": "stderr",
          "text": [
            "/usr/local/lib/python3.10/dist-packages/statsmodels/tsa/base/tsa_model.py:836: ValueWarning: No supported index is available. Prediction results will be given with an integer index beginning at `start`.\n",
            "  return get_prediction_index(\n",
            "/usr/local/lib/python3.10/dist-packages/statsmodels/tsa/base/tsa_model.py:473: ValueWarning: An unsupported index was provided and will be ignored when e.g. forecasting.\n",
            "  self._init_dates(dates, freq)\n",
            "/usr/local/lib/python3.10/dist-packages/statsmodels/tsa/base/tsa_model.py:473: ValueWarning: An unsupported index was provided and will be ignored when e.g. forecasting.\n",
            "  self._init_dates(dates, freq)\n",
            "/usr/local/lib/python3.10/dist-packages/statsmodels/tsa/base/tsa_model.py:473: ValueWarning: An unsupported index was provided and will be ignored when e.g. forecasting.\n",
            "  self._init_dates(dates, freq)\n"
          ]
        },
        {
          "output_type": "stream",
          "name": "stdout",
          "text": [
            "[-2.32534215 -2.44222431 -2.73539551 -1.51083646 -0.90031176 -0.48283538\n",
            " -0.46613684 -0.44090599 -0.44115909 -0.43956935 -0.43966687 -0.43956251\n",
            " -0.43957397 -0.43956686 -0.43956794 -0.43956744 -0.43956753 -0.4395675\n",
            " -0.4395675  -0.4395675  -0.4395675  -0.4395675  -0.4395675  -0.4395675\n",
            " -0.4395675  -0.4395675  -0.4395675  -0.4395675  -0.4395675  -0.4395675\n",
            " -0.4395675  -0.4395675  -0.4395675  -0.4395675  -0.4395675  -0.4395675\n",
            " -0.4395675  -0.4395675  -0.4395675  -0.4395675  -0.4395675  -0.4395675\n",
            " -0.4395675  -0.4395675  -0.4395675  -0.4395675  -0.4395675  -0.4395675\n",
            " -0.4395675  -0.4395675  -0.4395675  -0.4395675  -0.4395675  -0.4395675\n",
            " -0.4395675 ] 5.019522654634848\n",
            "Training set date range: 68 -- 73\n",
            "Validation set date range: 74 -- 74\n"
          ]
        },
        {
          "output_type": "stream",
          "name": "stderr",
          "text": [
            "/usr/local/lib/python3.10/dist-packages/statsmodels/base/model.py:607: ConvergenceWarning: Maximum Likelihood optimization failed to converge. Check mle_retvals\n",
            "  warnings.warn(\"Maximum Likelihood optimization failed to \"\n",
            "/usr/local/lib/python3.10/dist-packages/statsmodels/tsa/base/tsa_model.py:836: ValueWarning: No supported index is available. Prediction results will be given with an integer index beginning at `start`.\n",
            "  return get_prediction_index(\n",
            "/usr/local/lib/python3.10/dist-packages/statsmodels/tsa/base/tsa_model.py:473: ValueWarning: An unsupported index was provided and will be ignored when e.g. forecasting.\n",
            "  self._init_dates(dates, freq)\n",
            "/usr/local/lib/python3.10/dist-packages/statsmodels/tsa/base/tsa_model.py:473: ValueWarning: An unsupported index was provided and will be ignored when e.g. forecasting.\n",
            "  self._init_dates(dates, freq)\n",
            "/usr/local/lib/python3.10/dist-packages/statsmodels/tsa/base/tsa_model.py:473: ValueWarning: An unsupported index was provided and will be ignored when e.g. forecasting.\n",
            "  self._init_dates(dates, freq)\n"
          ]
        },
        {
          "output_type": "stream",
          "name": "stdout",
          "text": [
            "[ 0.1177887   0.73015063  0.0100417  -0.35164975 -2.16113409 -0.50630455\n",
            " -0.49399428 -0.54403828 -0.54313602 -0.54165504 -0.5417198  -0.54176266\n",
            " -0.54175962 -0.54175841 -0.54175854 -0.54175857 -0.54175856 -0.54175856\n",
            " -0.54175856 -0.54175856 -0.54175856 -0.54175856 -0.54175856 -0.54175856\n",
            " -0.54175856 -0.54175856 -0.54175856 -0.54175856 -0.54175856 -0.54175856\n",
            " -0.54175856 -0.54175856 -0.54175856 -0.54175856 -0.54175856 -0.54175856\n",
            " -0.54175856 -0.54175856 -0.54175856 -0.54175856 -0.54175856 -0.54175856\n",
            " -0.54175856 -0.54175856 -0.54175856 -0.54175856 -0.54175856 -0.54175856\n",
            " -0.54175856 -0.54175856 -0.54175856 -0.54175856 -0.54175856 -0.54175856\n",
            " -0.54175856] 4.245937848100865\n",
            "Training set date range: 75 -- 80\n",
            "Validation set date range: 81 -- 81\n"
          ]
        },
        {
          "output_type": "stream",
          "name": "stderr",
          "text": [
            "/usr/local/lib/python3.10/dist-packages/statsmodels/tsa/base/tsa_model.py:836: ValueWarning: No supported index is available. Prediction results will be given with an integer index beginning at `start`.\n",
            "  return get_prediction_index(\n",
            "/usr/local/lib/python3.10/dist-packages/statsmodels/tsa/base/tsa_model.py:473: ValueWarning: An unsupported index was provided and will be ignored when e.g. forecasting.\n",
            "  self._init_dates(dates, freq)\n",
            "/usr/local/lib/python3.10/dist-packages/statsmodels/tsa/base/tsa_model.py:473: ValueWarning: An unsupported index was provided and will be ignored when e.g. forecasting.\n",
            "  self._init_dates(dates, freq)\n",
            "/usr/local/lib/python3.10/dist-packages/statsmodels/tsa/base/tsa_model.py:473: ValueWarning: An unsupported index was provided and will be ignored when e.g. forecasting.\n",
            "  self._init_dates(dates, freq)\n"
          ]
        },
        {
          "output_type": "stream",
          "name": "stdout",
          "text": [
            "[-5.75542641 -2.74133729 -1.18599177 -1.86488551 -1.22833351  1.15345758\n",
            "  0.94191987  0.5456541   0.59882912  0.66397809  0.65210424  0.64152893\n",
            "  0.64400825  0.64570098  0.64520561  0.64493894  0.64503481  0.64507605\n",
            "  0.64505794  0.64505171  0.64505506  0.64505598  0.64505537  0.64505524\n",
            "  0.64505535  0.64505536  0.64505534  0.64505534  0.64505535  0.64505535\n",
            "  0.64505535  0.64505535  0.64505535  0.64505535  0.64505535  0.64505535\n",
            "  0.64505535  0.64505535  0.64505535  0.64505535  0.64505535  0.64505535\n",
            "  0.64505535  0.64505535  0.64505535  0.64505535  0.64505535  0.64505535\n",
            "  0.64505535  0.64505535  0.64505535  0.64505535  0.64505535  0.64505535\n",
            "  0.64505535] 2.120543291353125\n",
            "Training set date range: 82 -- 87\n",
            "Validation set date range: 88 -- 88\n"
          ]
        },
        {
          "output_type": "stream",
          "name": "stderr",
          "text": [
            "/usr/local/lib/python3.10/dist-packages/statsmodels/base/model.py:607: ConvergenceWarning: Maximum Likelihood optimization failed to converge. Check mle_retvals\n",
            "  warnings.warn(\"Maximum Likelihood optimization failed to \"\n",
            "/usr/local/lib/python3.10/dist-packages/statsmodels/tsa/base/tsa_model.py:836: ValueWarning: No supported index is available. Prediction results will be given with an integer index beginning at `start`.\n",
            "  return get_prediction_index(\n",
            "/usr/local/lib/python3.10/dist-packages/statsmodels/tsa/base/tsa_model.py:473: ValueWarning: An unsupported index was provided and will be ignored when e.g. forecasting.\n",
            "  self._init_dates(dates, freq)\n",
            "/usr/local/lib/python3.10/dist-packages/statsmodels/tsa/base/tsa_model.py:473: ValueWarning: An unsupported index was provided and will be ignored when e.g. forecasting.\n",
            "  self._init_dates(dates, freq)\n",
            "/usr/local/lib/python3.10/dist-packages/statsmodels/tsa/base/tsa_model.py:473: ValueWarning: An unsupported index was provided and will be ignored when e.g. forecasting.\n",
            "  self._init_dates(dates, freq)\n"
          ]
        },
        {
          "output_type": "stream",
          "name": "stdout",
          "text": [
            "[ 3.86282793  3.1672272   2.93983007  0.09640807 -0.76797235 -2.11597667\n",
            " -1.6211544  -1.39297929 -1.56250198 -1.58317629 -1.53713179 -1.54168013\n",
            " -1.55205935 -1.54876791 -1.54690252 -1.54810289 -1.54831074 -1.54797184\n",
            " -1.54799161 -1.54807087 -1.54804942 -1.54803441 -1.54804283 -1.54804476\n",
            " -1.54804228 -1.54804233 -1.54804293 -1.54804279 -1.54804267 -1.54804273\n",
            " -1.54804275 -1.54804273 -1.54804273 -1.54804273 -1.54804273 -1.54804273\n",
            " -1.54804273 -1.54804273 -1.54804273 -1.54804273 -1.54804273 -1.54804273\n",
            " -1.54804273 -1.54804273 -1.54804273 -1.54804273 -1.54804273 -1.54804273\n",
            " -1.54804273 -1.54804273 -1.54804273 -1.54804273 -1.54804273 -1.54804273\n",
            " -1.54804273] 6.1019249799438295\n",
            "Training set date range: 89 -- 94\n",
            "Validation set date range: 95 -- 95\n"
          ]
        },
        {
          "output_type": "stream",
          "name": "stderr",
          "text": [
            "/usr/local/lib/python3.10/dist-packages/statsmodels/base/model.py:607: ConvergenceWarning: Maximum Likelihood optimization failed to converge. Check mle_retvals\n",
            "  warnings.warn(\"Maximum Likelihood optimization failed to \"\n",
            "/usr/local/lib/python3.10/dist-packages/statsmodels/tsa/base/tsa_model.py:836: ValueWarning: No supported index is available. Prediction results will be given with an integer index beginning at `start`.\n",
            "  return get_prediction_index(\n",
            "/usr/local/lib/python3.10/dist-packages/statsmodels/tsa/base/tsa_model.py:473: ValueWarning: An unsupported index was provided and will be ignored when e.g. forecasting.\n",
            "  self._init_dates(dates, freq)\n",
            "/usr/local/lib/python3.10/dist-packages/statsmodels/tsa/base/tsa_model.py:473: ValueWarning: An unsupported index was provided and will be ignored when e.g. forecasting.\n",
            "  self._init_dates(dates, freq)\n",
            "/usr/local/lib/python3.10/dist-packages/statsmodels/tsa/base/tsa_model.py:473: ValueWarning: An unsupported index was provided and will be ignored when e.g. forecasting.\n",
            "  self._init_dates(dates, freq)\n"
          ]
        },
        {
          "output_type": "stream",
          "name": "stdout",
          "text": [
            "[-0.82268993  0.4238742   0.17991524 -0.35171007 -0.61741529 -0.66513105\n",
            " -0.6550878  -0.65496781 -0.65519514 -0.65517716 -0.65517389 -0.65517457\n",
            " -0.65517458 -0.65517456 -0.65517456 -0.65517456 -0.65517456 -0.65517456\n",
            " -0.65517456 -0.65517456 -0.65517456 -0.65517456 -0.65517456 -0.65517456\n",
            " -0.65517456 -0.65517456 -0.65517456 -0.65517456 -0.65517456 -0.65517456\n",
            " -0.65517456 -0.65517456 -0.65517456 -0.65517456 -0.65517456 -0.65517456\n",
            " -0.65517456 -0.65517456 -0.65517456 -0.65517456 -0.65517456 -0.65517456\n",
            " -0.65517456 -0.65517456 -0.65517456 -0.65517456 -0.65517456 -0.65517456\n",
            " -0.65517456 -0.65517456 -0.65517456 -0.65517456 -0.65517456 -0.65517456\n",
            " -0.65517456] 6.481772703322683\n",
            "Training set date range: 96 -- 101\n",
            "Validation set date range: 102 -- 102\n"
          ]
        },
        {
          "output_type": "stream",
          "name": "stderr",
          "text": [
            "/usr/local/lib/python3.10/dist-packages/statsmodels/base/model.py:607: ConvergenceWarning: Maximum Likelihood optimization failed to converge. Check mle_retvals\n",
            "  warnings.warn(\"Maximum Likelihood optimization failed to \"\n",
            "/usr/local/lib/python3.10/dist-packages/statsmodels/tsa/base/tsa_model.py:836: ValueWarning: No supported index is available. Prediction results will be given with an integer index beginning at `start`.\n",
            "  return get_prediction_index(\n",
            "/usr/local/lib/python3.10/dist-packages/statsmodels/tsa/base/tsa_model.py:473: ValueWarning: An unsupported index was provided and will be ignored when e.g. forecasting.\n",
            "  self._init_dates(dates, freq)\n",
            "/usr/local/lib/python3.10/dist-packages/statsmodels/tsa/base/tsa_model.py:473: ValueWarning: An unsupported index was provided and will be ignored when e.g. forecasting.\n",
            "  self._init_dates(dates, freq)\n",
            "/usr/local/lib/python3.10/dist-packages/statsmodels/tsa/base/tsa_model.py:473: ValueWarning: An unsupported index was provided and will be ignored when e.g. forecasting.\n",
            "  self._init_dates(dates, freq)\n"
          ]
        },
        {
          "output_type": "stream",
          "name": "stdout",
          "text": [
            "[-0.00601987 -0.59879472 -1.1752981  -1.01941038 -0.47823177 -1.77274567\n",
            " -1.40029128 -1.59215469 -1.51521575 -1.54923044 -1.53477893 -1.54101746\n",
            " -1.53834164 -1.53949232 -1.53899801 -1.53921045 -1.53911916 -1.53915839\n",
            " -1.53914153 -1.53914878 -1.53914567 -1.539147   -1.53914643 -1.53914668\n",
            " -1.53914657 -1.53914661 -1.5391466  -1.5391466  -1.5391466  -1.5391466\n",
            " -1.5391466  -1.5391466  -1.5391466  -1.5391466  -1.5391466  -1.5391466\n",
            " -1.5391466  -1.5391466  -1.5391466  -1.5391466  -1.5391466  -1.5391466\n",
            " -1.5391466  -1.5391466  -1.5391466  -1.5391466  -1.5391466  -1.5391466\n",
            " -1.5391466  -1.5391466  -1.5391466  -1.5391466  -1.5391466  -1.5391466\n",
            " -1.5391466 ] 4.1767895769527374\n",
            "Training set date range: 103 -- 108\n",
            "Validation set date range: 109 -- 109\n"
          ]
        },
        {
          "output_type": "stream",
          "name": "stderr",
          "text": [
            "/usr/local/lib/python3.10/dist-packages/statsmodels/tsa/base/tsa_model.py:836: ValueWarning: No supported index is available. Prediction results will be given with an integer index beginning at `start`.\n",
            "  return get_prediction_index(\n",
            "/usr/local/lib/python3.10/dist-packages/statsmodels/tsa/base/tsa_model.py:473: ValueWarning: An unsupported index was provided and will be ignored when e.g. forecasting.\n",
            "  self._init_dates(dates, freq)\n",
            "/usr/local/lib/python3.10/dist-packages/statsmodels/tsa/base/tsa_model.py:473: ValueWarning: An unsupported index was provided and will be ignored when e.g. forecasting.\n",
            "  self._init_dates(dates, freq)\n",
            "/usr/local/lib/python3.10/dist-packages/statsmodels/tsa/base/tsa_model.py:473: ValueWarning: An unsupported index was provided and will be ignored when e.g. forecasting.\n",
            "  self._init_dates(dates, freq)\n"
          ]
        },
        {
          "output_type": "stream",
          "name": "stdout",
          "text": [
            "[3.89327091 3.0945449  3.04505532 3.30781333 1.97594445 0.4441766\n",
            " 0.38730309 0.76477277 0.87739725 0.8099955  0.76364548 0.76886425\n",
            " 0.78208899 0.78418819 0.78134703 0.78007139 0.78046755 0.78089712\n",
            " 0.78090727 0.7807999  0.78076941 0.78078898 0.78080188 0.78080021\n",
            " 0.78079648 0.78079594 0.78079675 0.7807971  0.78079698 0.78079686\n",
            " 0.78079686 0.78079689 0.7807969  0.7807969  0.78079689 0.78079689\n",
            " 0.78079689 0.78079689 0.78079689 0.78079689 0.78079689 0.78079689\n",
            " 0.78079689 0.78079689 0.78079689 0.78079689 0.78079689 0.78079689\n",
            " 0.78079689 0.78079689 0.78079689 0.78079689 0.78079689 0.78079689\n",
            " 0.78079689] 5.745100818835384\n",
            "Training set date range: 110 -- 115\n",
            "Validation set date range: 116 -- 116\n"
          ]
        },
        {
          "output_type": "stream",
          "name": "stderr",
          "text": [
            "/usr/local/lib/python3.10/dist-packages/statsmodels/tsa/base/tsa_model.py:836: ValueWarning: No supported index is available. Prediction results will be given with an integer index beginning at `start`.\n",
            "  return get_prediction_index(\n",
            "/usr/local/lib/python3.10/dist-packages/statsmodels/tsa/base/tsa_model.py:473: ValueWarning: An unsupported index was provided and will be ignored when e.g. forecasting.\n",
            "  self._init_dates(dates, freq)\n",
            "/usr/local/lib/python3.10/dist-packages/statsmodels/tsa/base/tsa_model.py:473: ValueWarning: An unsupported index was provided and will be ignored when e.g. forecasting.\n",
            "  self._init_dates(dates, freq)\n",
            "/usr/local/lib/python3.10/dist-packages/statsmodels/tsa/base/tsa_model.py:473: ValueWarning: An unsupported index was provided and will be ignored when e.g. forecasting.\n",
            "  self._init_dates(dates, freq)\n"
          ]
        },
        {
          "output_type": "stream",
          "name": "stdout",
          "text": [
            "[-6.87531611 -5.38899005 -6.09136177 -3.95316704 -1.02207249 -0.7325803\n",
            " -1.68705242 -1.60445312 -1.32546334 -1.40108758 -1.47337341 -1.43708583\n",
            " -1.4213601  -1.43536116 -1.43768359 -1.43295528 -1.43309098 -1.43452225\n",
            " -1.43422297 -1.43383617 -1.4339979  -1.43408789 -1.43402191 -1.43400607\n",
            " -1.43402924 -1.43402994 -1.43402268 -1.43402377 -1.43402581 -1.43402511\n",
            " -1.43402461 -1.43402491 -1.43402501 -1.4340249  -1.43402489 -1.43402493\n",
            " -1.43402492 -1.43402491 -1.43402492 -1.43402492 -1.43402492 -1.43402492\n",
            " -1.43402492 -1.43402492 -1.43402492 -1.43402492 -1.43402492 -1.43402492\n",
            " -1.43402492 -1.43402492 -1.43402492 -1.43402492 -1.43402492 -1.43402492\n",
            " -1.43402492] 4.114817483853691\n",
            "Training set date range: 117 -- 122\n",
            "Validation set date range: 123 -- 123\n"
          ]
        },
        {
          "output_type": "stream",
          "name": "stderr",
          "text": [
            "/usr/local/lib/python3.10/dist-packages/statsmodels/tsa/base/tsa_model.py:836: ValueWarning: No supported index is available. Prediction results will be given with an integer index beginning at `start`.\n",
            "  return get_prediction_index(\n",
            "/usr/local/lib/python3.10/dist-packages/statsmodels/tsa/base/tsa_model.py:473: ValueWarning: An unsupported index was provided and will be ignored when e.g. forecasting.\n",
            "  self._init_dates(dates, freq)\n",
            "/usr/local/lib/python3.10/dist-packages/statsmodels/tsa/base/tsa_model.py:473: ValueWarning: An unsupported index was provided and will be ignored when e.g. forecasting.\n",
            "  self._init_dates(dates, freq)\n",
            "/usr/local/lib/python3.10/dist-packages/statsmodels/tsa/base/tsa_model.py:473: ValueWarning: An unsupported index was provided and will be ignored when e.g. forecasting.\n",
            "  self._init_dates(dates, freq)\n"
          ]
        },
        {
          "output_type": "stream",
          "name": "stdout",
          "text": [
            "[-6.40275489 -4.40554377 -1.69854775 -1.19972923 -0.5278868   0.43064212\n",
            "  0.20080167  0.24747725  0.23826358  0.2400725   0.23971773  0.23978729\n",
            "  0.23977365  0.23977633  0.2397758   0.23977591  0.23977589  0.23977589\n",
            "  0.23977589  0.23977589  0.23977589  0.23977589  0.23977589  0.23977589\n",
            "  0.23977589  0.23977589  0.23977589  0.23977589  0.23977589  0.23977589\n",
            "  0.23977589  0.23977589  0.23977589  0.23977589  0.23977589  0.23977589\n",
            "  0.23977589  0.23977589  0.23977589  0.23977589  0.23977589  0.23977589\n",
            "  0.23977589  0.23977589  0.23977589  0.23977589  0.23977589  0.23977589\n",
            "  0.23977589  0.23977589  0.23977589  0.23977589  0.23977589  0.23977589\n",
            "  0.23977589] 4.607378474937117\n",
            "Training set date range: 124 -- 129\n",
            "Validation set date range: 130 -- 130\n"
          ]
        },
        {
          "output_type": "stream",
          "name": "stderr",
          "text": [
            "/usr/local/lib/python3.10/dist-packages/statsmodels/base/model.py:607: ConvergenceWarning: Maximum Likelihood optimization failed to converge. Check mle_retvals\n",
            "  warnings.warn(\"Maximum Likelihood optimization failed to \"\n",
            "/usr/local/lib/python3.10/dist-packages/statsmodels/tsa/base/tsa_model.py:836: ValueWarning: No supported index is available. Prediction results will be given with an integer index beginning at `start`.\n",
            "  return get_prediction_index(\n",
            "/usr/local/lib/python3.10/dist-packages/statsmodels/tsa/base/tsa_model.py:473: ValueWarning: An unsupported index was provided and will be ignored when e.g. forecasting.\n",
            "  self._init_dates(dates, freq)\n",
            "/usr/local/lib/python3.10/dist-packages/statsmodels/tsa/base/tsa_model.py:473: ValueWarning: An unsupported index was provided and will be ignored when e.g. forecasting.\n",
            "  self._init_dates(dates, freq)\n",
            "/usr/local/lib/python3.10/dist-packages/statsmodels/tsa/base/tsa_model.py:473: ValueWarning: An unsupported index was provided and will be ignored when e.g. forecasting.\n",
            "  self._init_dates(dates, freq)\n"
          ]
        },
        {
          "output_type": "stream",
          "name": "stdout",
          "text": [
            "[ 0.79655292 -0.93582873 -1.63271133 -1.33416683 -0.48185046 -1.13717837\n",
            " -0.99652374 -1.01999619 -1.01652405 -1.01699975 -1.01693822 -1.0169458\n",
            " -1.01694491 -1.01694501 -1.016945   -1.016945   -1.016945   -1.016945\n",
            " -1.016945   -1.016945   -1.016945   -1.016945   -1.016945   -1.016945\n",
            " -1.016945   -1.016945   -1.016945   -1.016945   -1.016945   -1.016945\n",
            " -1.016945   -1.016945   -1.016945   -1.016945   -1.016945   -1.016945\n",
            " -1.016945   -1.016945   -1.016945   -1.016945   -1.016945   -1.016945\n",
            " -1.016945   -1.016945   -1.016945   -1.016945   -1.016945   -1.016945\n",
            " -1.016945   -1.016945   -1.016945   -1.016945   -1.016945   -1.016945\n",
            " -1.016945  ] 4.61299113981766\n",
            "Training set date range: 131 -- 136\n",
            "Validation set date range: 137 -- 137\n"
          ]
        },
        {
          "output_type": "stream",
          "name": "stderr",
          "text": [
            "/usr/local/lib/python3.10/dist-packages/statsmodels/base/model.py:607: ConvergenceWarning: Maximum Likelihood optimization failed to converge. Check mle_retvals\n",
            "  warnings.warn(\"Maximum Likelihood optimization failed to \"\n",
            "/usr/local/lib/python3.10/dist-packages/statsmodels/tsa/base/tsa_model.py:836: ValueWarning: No supported index is available. Prediction results will be given with an integer index beginning at `start`.\n",
            "  return get_prediction_index(\n",
            "/usr/local/lib/python3.10/dist-packages/statsmodels/tsa/base/tsa_model.py:473: ValueWarning: An unsupported index was provided and will be ignored when e.g. forecasting.\n",
            "  self._init_dates(dates, freq)\n",
            "/usr/local/lib/python3.10/dist-packages/statsmodels/tsa/base/tsa_model.py:473: ValueWarning: An unsupported index was provided and will be ignored when e.g. forecasting.\n",
            "  self._init_dates(dates, freq)\n",
            "/usr/local/lib/python3.10/dist-packages/statsmodels/tsa/base/tsa_model.py:473: ValueWarning: An unsupported index was provided and will be ignored when e.g. forecasting.\n",
            "  self._init_dates(dates, freq)\n"
          ]
        },
        {
          "output_type": "stream",
          "name": "stdout",
          "text": [
            "[ 1.53946577  0.92160462  0.22846597 -0.30301169 -1.22290177 -0.7608098\n",
            " -0.69487844 -0.77548913 -0.77264757 -0.76087063 -0.76317823 -0.76459726\n",
            " -0.76402107 -0.76389759 -0.76400468 -0.76400635 -0.76398984 -0.76399222\n",
            " -0.76399434 -0.76399364 -0.76399343 -0.76399357 -0.76399358 -0.76399356\n",
            " -0.76399356 -0.76399356 -0.76399356 -0.76399356 -0.76399356 -0.76399356\n",
            " -0.76399356 -0.76399356 -0.76399356 -0.76399356 -0.76399356 -0.76399356\n",
            " -0.76399356 -0.76399356 -0.76399356 -0.76399356 -0.76399356 -0.76399356\n",
            " -0.76399356 -0.76399356 -0.76399356 -0.76399356 -0.76399356 -0.76399356\n",
            " -0.76399356 -0.76399356 -0.76399356 -0.76399356 -0.76399356 -0.76399356\n",
            " -0.76399356] 5.325566795107306\n",
            "Training set date range: 138 -- 143\n",
            "Validation set date range: 144 -- 144\n"
          ]
        },
        {
          "output_type": "stream",
          "name": "stderr",
          "text": [
            "/usr/local/lib/python3.10/dist-packages/statsmodels/base/model.py:607: ConvergenceWarning: Maximum Likelihood optimization failed to converge. Check mle_retvals\n",
            "  warnings.warn(\"Maximum Likelihood optimization failed to \"\n",
            "/usr/local/lib/python3.10/dist-packages/statsmodels/tsa/base/tsa_model.py:836: ValueWarning: No supported index is available. Prediction results will be given with an integer index beginning at `start`.\n",
            "  return get_prediction_index(\n",
            "/usr/local/lib/python3.10/dist-packages/statsmodels/tsa/base/tsa_model.py:473: ValueWarning: An unsupported index was provided and will be ignored when e.g. forecasting.\n",
            "  self._init_dates(dates, freq)\n",
            "/usr/local/lib/python3.10/dist-packages/statsmodels/tsa/base/tsa_model.py:473: ValueWarning: An unsupported index was provided and will be ignored when e.g. forecasting.\n",
            "  self._init_dates(dates, freq)\n",
            "/usr/local/lib/python3.10/dist-packages/statsmodels/tsa/base/tsa_model.py:473: ValueWarning: An unsupported index was provided and will be ignored when e.g. forecasting.\n",
            "  self._init_dates(dates, freq)\n"
          ]
        },
        {
          "output_type": "stream",
          "name": "stdout",
          "text": [
            "[4.5212393  5.37082873 5.64810122 6.61920406 6.75455998 0.43863037\n",
            " 0.03415199 0.68840788 0.77229756 0.7071167  0.69407102 0.7002753\n",
            " 0.70206128 0.70150432 0.70127787 0.70132379 0.70135098 0.70134772\n",
            " 0.70134459 0.70134475 0.70134509 0.7013451  0.70134506 0.70134506\n",
            " 0.70134506 0.70134506 0.70134506 0.70134506 0.70134506 0.70134506\n",
            " 0.70134506 0.70134506 0.70134506 0.70134506 0.70134506 0.70134506\n",
            " 0.70134506 0.70134506 0.70134506 0.70134506 0.70134506 0.70134506\n",
            " 0.70134506 0.70134506 0.70134506 0.70134506 0.70134506 0.70134506\n",
            " 0.70134506 0.70134506 0.70134506 0.70134506 0.70134506 0.70134506\n",
            " 0.70134506] 6.849098185597942\n",
            "Training set date range: 145 -- 150\n",
            "Validation set date range: 151 -- 151\n"
          ]
        },
        {
          "output_type": "stream",
          "name": "stderr",
          "text": [
            "/usr/local/lib/python3.10/dist-packages/statsmodels/base/model.py:607: ConvergenceWarning: Maximum Likelihood optimization failed to converge. Check mle_retvals\n",
            "  warnings.warn(\"Maximum Likelihood optimization failed to \"\n",
            "/usr/local/lib/python3.10/dist-packages/statsmodels/tsa/base/tsa_model.py:836: ValueWarning: No supported index is available. Prediction results will be given with an integer index beginning at `start`.\n",
            "  return get_prediction_index(\n",
            "/usr/local/lib/python3.10/dist-packages/statsmodels/tsa/base/tsa_model.py:473: ValueWarning: An unsupported index was provided and will be ignored when e.g. forecasting.\n",
            "  self._init_dates(dates, freq)\n",
            "/usr/local/lib/python3.10/dist-packages/statsmodels/tsa/base/tsa_model.py:473: ValueWarning: An unsupported index was provided and will be ignored when e.g. forecasting.\n",
            "  self._init_dates(dates, freq)\n",
            "/usr/local/lib/python3.10/dist-packages/statsmodels/tsa/base/tsa_model.py:473: ValueWarning: An unsupported index was provided and will be ignored when e.g. forecasting.\n",
            "  self._init_dates(dates, freq)\n"
          ]
        },
        {
          "output_type": "stream",
          "name": "stdout",
          "text": [
            "[-11.56175509  -9.24499605  -7.54392745  -5.45392135  -5.10709121\n",
            "  -2.31476925  -2.31799557  -2.16392322  -2.16533498  -2.15682383\n",
            "  -2.15696987  -2.15649915  -2.15651098  -2.15648492  -2.15648578\n",
            "  -2.15648433  -2.15648439  -2.15648431  -2.15648432  -2.15648431\n",
            "  -2.15648431  -2.15648431  -2.15648431  -2.15648431  -2.15648431\n",
            "  -2.15648431  -2.15648431  -2.15648431  -2.15648431  -2.15648431\n",
            "  -2.15648431  -2.15648431  -2.15648431  -2.15648431  -2.15648431\n",
            "  -2.15648431  -2.15648431  -2.15648431  -2.15648431  -2.15648431\n",
            "  -2.15648431  -2.15648431  -2.15648431  -2.15648431  -2.15648431\n",
            "  -2.15648431  -2.15648431  -2.15648431  -2.15648431  -2.15648431\n",
            "  -2.15648431  -2.15648431  -2.15648431  -2.15648431  -2.15648431] 8.44062030467131\n",
            "Training set date range: 152 -- 157\n",
            "Validation set date range: 158 -- 158\n"
          ]
        },
        {
          "output_type": "stream",
          "name": "stderr",
          "text": [
            "/usr/local/lib/python3.10/dist-packages/statsmodels/base/model.py:607: ConvergenceWarning: Maximum Likelihood optimization failed to converge. Check mle_retvals\n",
            "  warnings.warn(\"Maximum Likelihood optimization failed to \"\n",
            "/usr/local/lib/python3.10/dist-packages/statsmodels/tsa/base/tsa_model.py:836: ValueWarning: No supported index is available. Prediction results will be given with an integer index beginning at `start`.\n",
            "  return get_prediction_index(\n",
            "/usr/local/lib/python3.10/dist-packages/statsmodels/tsa/base/tsa_model.py:473: ValueWarning: An unsupported index was provided and will be ignored when e.g. forecasting.\n",
            "  self._init_dates(dates, freq)\n",
            "/usr/local/lib/python3.10/dist-packages/statsmodels/tsa/base/tsa_model.py:473: ValueWarning: An unsupported index was provided and will be ignored when e.g. forecasting.\n",
            "  self._init_dates(dates, freq)\n",
            "/usr/local/lib/python3.10/dist-packages/statsmodels/tsa/base/tsa_model.py:473: ValueWarning: An unsupported index was provided and will be ignored when e.g. forecasting.\n",
            "  self._init_dates(dates, freq)\n"
          ]
        },
        {
          "output_type": "stream",
          "name": "stdout",
          "text": [
            "[-5.13831096 -3.46334518 -2.26522135  0.33395831 -1.40294359 -0.64464122\n",
            " -0.43230483 -0.61973174 -0.62917767 -0.59035408 -0.59524811 -0.60209583\n",
            " -0.59993139 -0.59895042 -0.59955074 -0.59964068 -0.59950592 -0.59951157\n",
            " -0.59953732 -0.59953171 -0.59952758 -0.59952941 -0.59952991 -0.59952946\n",
            " -0.59952944 -0.59952953 -0.59952952 -0.59952951 -0.59952951 -0.59952951\n",
            " -0.59952951 -0.59952951 -0.59952951 -0.59952951 -0.59952951 -0.59952951\n",
            " -0.59952951 -0.59952951 -0.59952951 -0.59952951 -0.59952951 -0.59952951\n",
            " -0.59952951 -0.59952951 -0.59952951 -0.59952951 -0.59952951 -0.59952951\n",
            " -0.59952951 -0.59952951 -0.59952951 -0.59952951 -0.59952951 -0.59952951\n",
            " -0.59952951] 5.699686080264574\n",
            "Training set date range: 159 -- 164\n",
            "Validation set date range: 165 -- 165\n"
          ]
        },
        {
          "output_type": "stream",
          "name": "stderr",
          "text": [
            "/usr/local/lib/python3.10/dist-packages/statsmodels/tsa/base/tsa_model.py:836: ValueWarning: No supported index is available. Prediction results will be given with an integer index beginning at `start`.\n",
            "  return get_prediction_index(\n",
            "/usr/local/lib/python3.10/dist-packages/statsmodels/tsa/base/tsa_model.py:473: ValueWarning: An unsupported index was provided and will be ignored when e.g. forecasting.\n",
            "  self._init_dates(dates, freq)\n",
            "/usr/local/lib/python3.10/dist-packages/statsmodels/tsa/base/tsa_model.py:473: ValueWarning: An unsupported index was provided and will be ignored when e.g. forecasting.\n",
            "  self._init_dates(dates, freq)\n",
            "/usr/local/lib/python3.10/dist-packages/statsmodels/tsa/base/tsa_model.py:473: ValueWarning: An unsupported index was provided and will be ignored when e.g. forecasting.\n",
            "  self._init_dates(dates, freq)\n"
          ]
        },
        {
          "output_type": "stream",
          "name": "stdout",
          "text": [
            "[ 0.40764439  0.50044152  1.04889055  2.80754141  0.62238813 -1.36687623\n",
            " -0.7160371  -0.54773024 -0.66848846 -0.67140909 -0.65388096 -0.65648947\n",
            " -0.65851117 -0.65779506 -0.65763342 -0.65776223 -0.65776283 -0.65774456\n",
            " -0.65774763 -0.65774967 -0.65774889 -0.65774874 -0.65774887 -0.65774887\n",
            " -0.65774885 -0.65774886 -0.65774886 -0.65774886 -0.65774886 -0.65774886\n",
            " -0.65774886 -0.65774886 -0.65774886 -0.65774886 -0.65774886 -0.65774886\n",
            " -0.65774886 -0.65774886 -0.65774886 -0.65774886 -0.65774886 -0.65774886\n",
            " -0.65774886 -0.65774886 -0.65774886 -0.65774886 -0.65774886 -0.65774886\n",
            " -0.65774886 -0.65774886 -0.65774886 -0.65774886 -0.65774886 -0.65774886\n",
            " -0.65774886] 4.317065045449294\n",
            "Training set date range: 166 -- 171\n",
            "Validation set date range: 172 -- 172\n"
          ]
        },
        {
          "output_type": "stream",
          "name": "stderr",
          "text": [
            "/usr/local/lib/python3.10/dist-packages/statsmodels/base/model.py:607: ConvergenceWarning: Maximum Likelihood optimization failed to converge. Check mle_retvals\n",
            "  warnings.warn(\"Maximum Likelihood optimization failed to \"\n",
            "/usr/local/lib/python3.10/dist-packages/statsmodels/tsa/base/tsa_model.py:836: ValueWarning: No supported index is available. Prediction results will be given with an integer index beginning at `start`.\n",
            "  return get_prediction_index(\n",
            "/usr/local/lib/python3.10/dist-packages/statsmodels/tsa/base/tsa_model.py:473: ValueWarning: An unsupported index was provided and will be ignored when e.g. forecasting.\n",
            "  self._init_dates(dates, freq)\n",
            "/usr/local/lib/python3.10/dist-packages/statsmodels/tsa/base/tsa_model.py:473: ValueWarning: An unsupported index was provided and will be ignored when e.g. forecasting.\n",
            "  self._init_dates(dates, freq)\n",
            "/usr/local/lib/python3.10/dist-packages/statsmodels/tsa/base/tsa_model.py:473: ValueWarning: An unsupported index was provided and will be ignored when e.g. forecasting.\n",
            "  self._init_dates(dates, freq)\n"
          ]
        },
        {
          "output_type": "stream",
          "name": "stdout",
          "text": [
            "[6.460483   2.99544398 1.31394321 0.85175375 1.01310309 0.62268892\n",
            " 0.66174318 0.69545145 0.68675444 0.68459794 0.68577729 0.68582706\n",
            " 0.68570149 0.68571426 0.68572507 0.68572226 0.68572157 0.68572195\n",
            " 0.68572197 0.68572193 0.68572193 0.68572193 0.68572193 0.68572193\n",
            " 0.68572193 0.68572193 0.68572193 0.68572193 0.68572193 0.68572193\n",
            " 0.68572193 0.68572193 0.68572193 0.68572193 0.68572193 0.68572193\n",
            " 0.68572193 0.68572193 0.68572193 0.68572193 0.68572193 0.68572193\n",
            " 0.68572193 0.68572193 0.68572193 0.68572193 0.68572193 0.68572193\n",
            " 0.68572193 0.68572193 0.68572193 0.68572193 0.68572193 0.68572193\n",
            " 0.68572193] 2.9171106178933885\n",
            "Training set date range: 173 -- 178\n",
            "Validation set date range: 179 -- 179\n"
          ]
        },
        {
          "output_type": "stream",
          "name": "stderr",
          "text": [
            "/usr/local/lib/python3.10/dist-packages/statsmodels/base/model.py:607: ConvergenceWarning: Maximum Likelihood optimization failed to converge. Check mle_retvals\n",
            "  warnings.warn(\"Maximum Likelihood optimization failed to \"\n",
            "/usr/local/lib/python3.10/dist-packages/statsmodels/tsa/base/tsa_model.py:836: ValueWarning: No supported index is available. Prediction results will be given with an integer index beginning at `start`.\n",
            "  return get_prediction_index(\n",
            "/usr/local/lib/python3.10/dist-packages/statsmodels/tsa/base/tsa_model.py:473: ValueWarning: An unsupported index was provided and will be ignored when e.g. forecasting.\n",
            "  self._init_dates(dates, freq)\n",
            "/usr/local/lib/python3.10/dist-packages/statsmodels/tsa/base/tsa_model.py:473: ValueWarning: An unsupported index was provided and will be ignored when e.g. forecasting.\n",
            "  self._init_dates(dates, freq)\n",
            "/usr/local/lib/python3.10/dist-packages/statsmodels/tsa/base/tsa_model.py:473: ValueWarning: An unsupported index was provided and will be ignored when e.g. forecasting.\n",
            "  self._init_dates(dates, freq)\n"
          ]
        },
        {
          "output_type": "stream",
          "name": "stdout",
          "text": [
            "[ 1.16881481  0.66553539  1.5159953   1.42586138  1.13769378 -0.38966512\n",
            " -0.74093816 -0.43776467 -0.26069505 -0.29086367 -0.34583042 -0.3532693\n",
            " -0.34090413 -0.33549234 -0.33722885 -0.3391365  -0.33921348 -0.33873368\n",
            " -0.33857932 -0.33866225 -0.338726   -0.33872203 -0.33870416 -0.33870021\n",
            " -0.3387038  -0.33870584 -0.33870547 -0.33870483 -0.33870475 -0.3387049\n",
            " -0.33870496 -0.33870494 -0.33870491 -0.33870491 -0.33870492 -0.33870492\n",
            " -0.33870492 -0.33870492 -0.33870492 -0.33870492 -0.33870492 -0.33870492\n",
            " -0.33870492 -0.33870492 -0.33870492 -0.33870492 -0.33870492 -0.33870492\n",
            " -0.33870492 -0.33870492 -0.33870492 -0.33870492 -0.33870492 -0.33870492\n",
            " -0.33870492] 4.306123077429268\n",
            "Training set date range: 180 -- 185\n",
            "Validation set date range: 186 -- 186\n"
          ]
        },
        {
          "output_type": "stream",
          "name": "stderr",
          "text": [
            "/usr/local/lib/python3.10/dist-packages/statsmodels/base/model.py:607: ConvergenceWarning: Maximum Likelihood optimization failed to converge. Check mle_retvals\n",
            "  warnings.warn(\"Maximum Likelihood optimization failed to \"\n",
            "/usr/local/lib/python3.10/dist-packages/statsmodels/tsa/base/tsa_model.py:836: ValueWarning: No supported index is available. Prediction results will be given with an integer index beginning at `start`.\n",
            "  return get_prediction_index(\n",
            "/usr/local/lib/python3.10/dist-packages/statsmodels/tsa/base/tsa_model.py:473: ValueWarning: An unsupported index was provided and will be ignored when e.g. forecasting.\n",
            "  self._init_dates(dates, freq)\n",
            "/usr/local/lib/python3.10/dist-packages/statsmodels/tsa/base/tsa_model.py:473: ValueWarning: An unsupported index was provided and will be ignored when e.g. forecasting.\n",
            "  self._init_dates(dates, freq)\n",
            "/usr/local/lib/python3.10/dist-packages/statsmodels/tsa/base/tsa_model.py:473: ValueWarning: An unsupported index was provided and will be ignored when e.g. forecasting.\n",
            "  self._init_dates(dates, freq)\n"
          ]
        },
        {
          "output_type": "stream",
          "name": "stdout",
          "text": [
            "[ 2.14353040e+01  2.11378130e+01  1.64376288e+01  1.26862619e+01\n",
            "  9.44205339e+00 -5.60124283e-01  6.47090717e-01 -9.21633158e-02\n",
            "  7.96936243e-02  1.35519623e-02  3.25741827e-02  2.61488410e-02\n",
            "  2.81296527e-02  2.74869605e-02  2.76895517e-02  2.76246456e-02\n",
            "  2.76452509e-02  2.76386757e-02  2.76407678e-02  2.76401011e-02\n",
            "  2.76403134e-02  2.76402457e-02  2.76402673e-02  2.76402604e-02\n",
            "  2.76402626e-02  2.76402619e-02  2.76402621e-02  2.76402620e-02\n",
            "  2.76402621e-02  2.76402621e-02  2.76402621e-02  2.76402621e-02\n",
            "  2.76402621e-02  2.76402621e-02  2.76402621e-02  2.76402621e-02\n",
            "  2.76402621e-02  2.76402621e-02  2.76402621e-02  2.76402621e-02\n",
            "  2.76402621e-02  2.76402621e-02  2.76402621e-02  2.76402621e-02\n",
            "  2.76402621e-02  2.76402621e-02  2.76402621e-02  2.76402621e-02\n",
            "  2.76402621e-02  2.76402621e-02  2.76402621e-02  2.76402621e-02\n",
            "  2.76402621e-02  2.76402621e-02  2.76402621e-02] 6.026365096299682\n",
            "Training set date range: 187 -- 192\n",
            "Validation set date range: 193 -- 193\n"
          ]
        },
        {
          "output_type": "stream",
          "name": "stderr",
          "text": [
            "/usr/local/lib/python3.10/dist-packages/statsmodels/base/model.py:607: ConvergenceWarning: Maximum Likelihood optimization failed to converge. Check mle_retvals\n",
            "  warnings.warn(\"Maximum Likelihood optimization failed to \"\n",
            "/usr/local/lib/python3.10/dist-packages/statsmodels/tsa/base/tsa_model.py:836: ValueWarning: No supported index is available. Prediction results will be given with an integer index beginning at `start`.\n",
            "  return get_prediction_index(\n",
            "/usr/local/lib/python3.10/dist-packages/statsmodels/tsa/base/tsa_model.py:473: ValueWarning: An unsupported index was provided and will be ignored when e.g. forecasting.\n",
            "  self._init_dates(dates, freq)\n",
            "/usr/local/lib/python3.10/dist-packages/statsmodels/tsa/base/tsa_model.py:473: ValueWarning: An unsupported index was provided and will be ignored when e.g. forecasting.\n",
            "  self._init_dates(dates, freq)\n",
            "/usr/local/lib/python3.10/dist-packages/statsmodels/tsa/base/tsa_model.py:473: ValueWarning: An unsupported index was provided and will be ignored when e.g. forecasting.\n",
            "  self._init_dates(dates, freq)\n"
          ]
        },
        {
          "output_type": "stream",
          "name": "stdout",
          "text": [
            "[-7.56848749 -3.80563699 -0.91799575 -1.48307004  1.16253507  0.59309294\n",
            "  0.69108578  0.67385674  0.67687913  0.6763488   0.67644185  0.67642553\n",
            "  0.67642839  0.67642789  0.67642798  0.67642796  0.67642796  0.67642796\n",
            "  0.67642796  0.67642796  0.67642796  0.67642796  0.67642796  0.67642796\n",
            "  0.67642796  0.67642796  0.67642796  0.67642796  0.67642796  0.67642796\n",
            "  0.67642796  0.67642796  0.67642796  0.67642796  0.67642796  0.67642796\n",
            "  0.67642796  0.67642796  0.67642796  0.67642796  0.67642796  0.67642796\n",
            "  0.67642796  0.67642796  0.67642796  0.67642796  0.67642796  0.67642796\n",
            "  0.67642796  0.67642796  0.67642796  0.67642796  0.67642796  0.67642796\n",
            "  0.67642796] 6.176644855513599\n",
            "Training set date range: 194 -- 199\n",
            "Validation set date range: 200 -- 200\n"
          ]
        },
        {
          "output_type": "stream",
          "name": "stderr",
          "text": [
            "/usr/local/lib/python3.10/dist-packages/statsmodels/tsa/base/tsa_model.py:836: ValueWarning: No supported index is available. Prediction results will be given with an integer index beginning at `start`.\n",
            "  return get_prediction_index(\n",
            "/usr/local/lib/python3.10/dist-packages/statsmodels/tsa/base/tsa_model.py:473: ValueWarning: An unsupported index was provided and will be ignored when e.g. forecasting.\n",
            "  self._init_dates(dates, freq)\n",
            "/usr/local/lib/python3.10/dist-packages/statsmodels/tsa/base/tsa_model.py:473: ValueWarning: An unsupported index was provided and will be ignored when e.g. forecasting.\n",
            "  self._init_dates(dates, freq)\n",
            "/usr/local/lib/python3.10/dist-packages/statsmodels/tsa/base/tsa_model.py:473: ValueWarning: An unsupported index was provided and will be ignored when e.g. forecasting.\n",
            "  self._init_dates(dates, freq)\n"
          ]
        },
        {
          "output_type": "stream",
          "name": "stdout",
          "text": [
            "[-2.78440621 -4.27919442 -4.91196241 -3.39192877 -1.99373405  1.93429677\n",
            "  1.15868528  1.12083681  1.16293499  1.15702275  1.15618198  1.156603\n",
            "  1.15656487  1.15655266  1.15655661  1.15655644  1.15655629  1.15655633\n",
            "  1.15655633  1.15655633  1.15655633  1.15655633  1.15655633  1.15655633\n",
            "  1.15655633  1.15655633  1.15655633  1.15655633  1.15655633  1.15655633\n",
            "  1.15655633  1.15655633  1.15655633  1.15655633  1.15655633  1.15655633\n",
            "  1.15655633  1.15655633  1.15655633  1.15655633  1.15655633  1.15655633\n",
            "  1.15655633  1.15655633  1.15655633  1.15655633  1.15655633  1.15655633\n",
            "  1.15655633  1.15655633  1.15655633  1.15655633  1.15655633  1.15655633\n",
            "  1.15655633] 6.687229341184002\n",
            "Training set date range: 201 -- 206\n",
            "Validation set date range: 207 -- 207\n"
          ]
        },
        {
          "output_type": "stream",
          "name": "stderr",
          "text": [
            "/usr/local/lib/python3.10/dist-packages/statsmodels/tsa/base/tsa_model.py:836: ValueWarning: No supported index is available. Prediction results will be given with an integer index beginning at `start`.\n",
            "  return get_prediction_index(\n",
            "/usr/local/lib/python3.10/dist-packages/statsmodels/tsa/base/tsa_model.py:473: ValueWarning: An unsupported index was provided and will be ignored when e.g. forecasting.\n",
            "  self._init_dates(dates, freq)\n",
            "/usr/local/lib/python3.10/dist-packages/statsmodels/tsa/base/tsa_model.py:473: ValueWarning: An unsupported index was provided and will be ignored when e.g. forecasting.\n",
            "  self._init_dates(dates, freq)\n",
            "/usr/local/lib/python3.10/dist-packages/statsmodels/tsa/base/tsa_model.py:473: ValueWarning: An unsupported index was provided and will be ignored when e.g. forecasting.\n",
            "  self._init_dates(dates, freq)\n"
          ]
        },
        {
          "output_type": "stream",
          "name": "stdout",
          "text": [
            "[-4.58514945 -1.92345036 -0.69538056 -0.83097382 -0.54306588  0.35912503\n",
            "  0.37617106  0.30391339  0.2993022   0.30494425  0.30556979  0.30514111\n",
            "  0.30507131  0.30510289  0.30510995  0.30510771  0.30510704  0.30510719\n",
            "  0.30510725  0.30510724  0.30510724  0.30510724  0.30510724  0.30510724\n",
            "  0.30510724  0.30510724  0.30510724  0.30510724  0.30510724  0.30510724\n",
            "  0.30510724  0.30510724  0.30510724  0.30510724  0.30510724  0.30510724\n",
            "  0.30510724  0.30510724  0.30510724  0.30510724  0.30510724  0.30510724\n",
            "  0.30510724  0.30510724  0.30510724  0.30510724  0.30510724  0.30510724\n",
            "  0.30510724  0.30510724  0.30510724  0.30510724  0.30510724  0.30510724\n",
            "  0.30510724] 5.366636387951658\n",
            "Training set date range: 208 -- 213\n",
            "Validation set date range: 214 -- 214\n"
          ]
        },
        {
          "output_type": "stream",
          "name": "stderr",
          "text": [
            "/usr/local/lib/python3.10/dist-packages/statsmodels/base/model.py:607: ConvergenceWarning: Maximum Likelihood optimization failed to converge. Check mle_retvals\n",
            "  warnings.warn(\"Maximum Likelihood optimization failed to \"\n",
            "/usr/local/lib/python3.10/dist-packages/statsmodels/tsa/base/tsa_model.py:836: ValueWarning: No supported index is available. Prediction results will be given with an integer index beginning at `start`.\n",
            "  return get_prediction_index(\n",
            "/usr/local/lib/python3.10/dist-packages/statsmodels/tsa/base/tsa_model.py:473: ValueWarning: An unsupported index was provided and will be ignored when e.g. forecasting.\n",
            "  self._init_dates(dates, freq)\n",
            "/usr/local/lib/python3.10/dist-packages/statsmodels/tsa/base/tsa_model.py:473: ValueWarning: An unsupported index was provided and will be ignored when e.g. forecasting.\n",
            "  self._init_dates(dates, freq)\n",
            "/usr/local/lib/python3.10/dist-packages/statsmodels/tsa/base/tsa_model.py:473: ValueWarning: An unsupported index was provided and will be ignored when e.g. forecasting.\n",
            "  self._init_dates(dates, freq)\n"
          ]
        },
        {
          "output_type": "stream",
          "name": "stdout",
          "text": [
            "[-0.29443474  0.61449657  0.59998378  0.35756239  0.13653848  0.86916406\n",
            "  0.73442969  0.84533984  0.81233701  0.8309723   0.82413702  0.82745696\n",
            "  0.82612028  0.82672914  0.82647365  0.82658683  0.82653847  0.82655963\n",
            "  0.82655052  0.82655448  0.82655277  0.82655351  0.82655319  0.82655333\n",
            "  0.82655327  0.8265533   0.82655329  0.82655329  0.82655329  0.82655329\n",
            "  0.82655329  0.82655329  0.82655329  0.82655329  0.82655329  0.82655329\n",
            "  0.82655329  0.82655329  0.82655329  0.82655329  0.82655329  0.82655329\n",
            "  0.82655329  0.82655329  0.82655329  0.82655329  0.82655329  0.82655329\n",
            "  0.82655329  0.82655329  0.82655329  0.82655329  0.82655329  0.82655329\n",
            "  0.82655329] 6.687517213388882\n",
            "Training set date range: 215 -- 220\n",
            "Validation set date range: 221 -- 221\n"
          ]
        },
        {
          "output_type": "stream",
          "name": "stderr",
          "text": [
            "/usr/local/lib/python3.10/dist-packages/statsmodels/base/model.py:607: ConvergenceWarning: Maximum Likelihood optimization failed to converge. Check mle_retvals\n",
            "  warnings.warn(\"Maximum Likelihood optimization failed to \"\n",
            "/usr/local/lib/python3.10/dist-packages/statsmodels/tsa/base/tsa_model.py:836: ValueWarning: No supported index is available. Prediction results will be given with an integer index beginning at `start`.\n",
            "  return get_prediction_index(\n",
            "/usr/local/lib/python3.10/dist-packages/statsmodels/tsa/base/tsa_model.py:473: ValueWarning: An unsupported index was provided and will be ignored when e.g. forecasting.\n",
            "  self._init_dates(dates, freq)\n",
            "/usr/local/lib/python3.10/dist-packages/statsmodels/tsa/base/tsa_model.py:473: ValueWarning: An unsupported index was provided and will be ignored when e.g. forecasting.\n",
            "  self._init_dates(dates, freq)\n",
            "/usr/local/lib/python3.10/dist-packages/statsmodels/tsa/base/tsa_model.py:473: ValueWarning: An unsupported index was provided and will be ignored when e.g. forecasting.\n",
            "  self._init_dates(dates, freq)\n"
          ]
        },
        {
          "output_type": "stream",
          "name": "stdout",
          "text": [
            "[ 0.32846477 -0.38587974  0.93748237 -1.02942914 -2.764309   -1.42490517\n",
            " -1.67205212 -1.49798379 -1.53283566 -1.51015569 -1.51503068 -1.51206852\n",
            " -1.51274595 -1.51235821 -1.51245184 -1.51240097 -1.51241386 -1.51240717\n",
            " -1.51240894 -1.51240806 -1.5124083  -1.51240818 -1.51240822 -1.5124082\n",
            " -1.51240821 -1.5124082  -1.5124082  -1.5124082  -1.5124082  -1.5124082\n",
            " -1.5124082  -1.5124082  -1.5124082  -1.5124082  -1.5124082  -1.5124082\n",
            " -1.5124082  -1.5124082  -1.5124082  -1.5124082  -1.5124082  -1.5124082\n",
            " -1.5124082  -1.5124082  -1.5124082  -1.5124082  -1.5124082  -1.5124082\n",
            " -1.5124082  -1.5124082  -1.5124082  -1.5124082  -1.5124082  -1.5124082\n",
            " -1.5124082 ] 7.904652308238907\n",
            "Training set date range: 222 -- 227\n",
            "Validation set date range: 228 -- 228\n"
          ]
        },
        {
          "output_type": "stream",
          "name": "stderr",
          "text": [
            "/usr/local/lib/python3.10/dist-packages/statsmodels/base/model.py:607: ConvergenceWarning: Maximum Likelihood optimization failed to converge. Check mle_retvals\n",
            "  warnings.warn(\"Maximum Likelihood optimization failed to \"\n",
            "/usr/local/lib/python3.10/dist-packages/statsmodels/tsa/base/tsa_model.py:836: ValueWarning: No supported index is available. Prediction results will be given with an integer index beginning at `start`.\n",
            "  return get_prediction_index(\n",
            "/usr/local/lib/python3.10/dist-packages/statsmodels/tsa/base/tsa_model.py:473: ValueWarning: An unsupported index was provided and will be ignored when e.g. forecasting.\n",
            "  self._init_dates(dates, freq)\n",
            "/usr/local/lib/python3.10/dist-packages/statsmodels/tsa/base/tsa_model.py:473: ValueWarning: An unsupported index was provided and will be ignored when e.g. forecasting.\n",
            "  self._init_dates(dates, freq)\n",
            "/usr/local/lib/python3.10/dist-packages/statsmodels/tsa/base/tsa_model.py:473: ValueWarning: An unsupported index was provided and will be ignored when e.g. forecasting.\n",
            "  self._init_dates(dates, freq)\n"
          ]
        },
        {
          "output_type": "stream",
          "name": "stdout",
          "text": [
            "[0.1829262  0.78220299 1.70399845 2.8862559  3.2162023  1.97115378\n",
            " 1.67082205 1.26805104 1.06938362 0.90789312 0.80872455 0.73797866\n",
            " 0.69150841 0.65958596 0.63818774 0.62365146 0.61384831 0.60721084\n",
            " 0.6027265  0.59969325 0.59764286 0.59625636 0.59531897 0.59468516\n",
            " 0.59425663 0.59396689 0.59377099 0.59363853 0.59354897 0.59348842\n",
            " 0.59344748 0.5934198  0.59340109 0.59338843 0.59337988 0.59337409\n",
            " 0.59337018 0.59336753 0.59336575 0.59336454 0.59336372 0.59336317\n",
            " 0.59336279 0.59336254 0.59336237 0.59336225 0.59336218 0.59336212\n",
            " 0.59336209 0.59336206 0.59336205 0.59336204 0.59336203 0.59336202\n",
            " 0.59336202] 7.835168634385634\n",
            "Training set date range: 229 -- 234\n",
            "Validation set date range: 235 -- 235\n"
          ]
        },
        {
          "output_type": "stream",
          "name": "stderr",
          "text": [
            "/usr/local/lib/python3.10/dist-packages/statsmodels/base/model.py:607: ConvergenceWarning: Maximum Likelihood optimization failed to converge. Check mle_retvals\n",
            "  warnings.warn(\"Maximum Likelihood optimization failed to \"\n",
            "/usr/local/lib/python3.10/dist-packages/statsmodels/tsa/base/tsa_model.py:836: ValueWarning: No supported index is available. Prediction results will be given with an integer index beginning at `start`.\n",
            "  return get_prediction_index(\n",
            "/usr/local/lib/python3.10/dist-packages/statsmodels/tsa/base/tsa_model.py:473: ValueWarning: An unsupported index was provided and will be ignored when e.g. forecasting.\n",
            "  self._init_dates(dates, freq)\n",
            "/usr/local/lib/python3.10/dist-packages/statsmodels/tsa/base/tsa_model.py:473: ValueWarning: An unsupported index was provided and will be ignored when e.g. forecasting.\n",
            "  self._init_dates(dates, freq)\n",
            "/usr/local/lib/python3.10/dist-packages/statsmodels/tsa/base/tsa_model.py:473: ValueWarning: An unsupported index was provided and will be ignored when e.g. forecasting.\n",
            "  self._init_dates(dates, freq)\n"
          ]
        },
        {
          "output_type": "stream",
          "name": "stdout",
          "text": [
            "[ 6.14373717  5.99303263  4.94688801  3.0401466   1.16698669 -1.23164409\n",
            " -1.63627768 -1.72245742 -1.73989806 -1.74346455 -1.7441923  -1.74434086\n",
            " -1.74437119 -1.74437738 -1.74437864 -1.7443789  -1.74437895 -1.74437896\n",
            " -1.74437896 -1.74437897 -1.74437897 -1.74437897 -1.74437897 -1.74437897\n",
            " -1.74437897 -1.74437897 -1.74437897 -1.74437897 -1.74437897 -1.74437897\n",
            " -1.74437897 -1.74437897 -1.74437897 -1.74437897 -1.74437897 -1.74437897\n",
            " -1.74437897 -1.74437897 -1.74437897 -1.74437897 -1.74437897 -1.74437897\n",
            " -1.74437897 -1.74437897 -1.74437897 -1.74437897 -1.74437897 -1.74437897\n",
            " -1.74437897 -1.74437897 -1.74437897 -1.74437897 -1.74437897 -1.74437897\n",
            " -1.74437897] 5.108248876103869\n",
            "Training set date range: 236 -- 241\n",
            "Validation set date range: 242 -- 242\n"
          ]
        },
        {
          "output_type": "stream",
          "name": "stderr",
          "text": [
            "/usr/local/lib/python3.10/dist-packages/statsmodels/base/model.py:607: ConvergenceWarning: Maximum Likelihood optimization failed to converge. Check mle_retvals\n",
            "  warnings.warn(\"Maximum Likelihood optimization failed to \"\n",
            "/usr/local/lib/python3.10/dist-packages/statsmodels/tsa/base/tsa_model.py:836: ValueWarning: No supported index is available. Prediction results will be given with an integer index beginning at `start`.\n",
            "  return get_prediction_index(\n",
            "/usr/local/lib/python3.10/dist-packages/statsmodels/tsa/base/tsa_model.py:473: ValueWarning: An unsupported index was provided and will be ignored when e.g. forecasting.\n",
            "  self._init_dates(dates, freq)\n",
            "/usr/local/lib/python3.10/dist-packages/statsmodels/tsa/base/tsa_model.py:473: ValueWarning: An unsupported index was provided and will be ignored when e.g. forecasting.\n",
            "  self._init_dates(dates, freq)\n",
            "/usr/local/lib/python3.10/dist-packages/statsmodels/tsa/base/tsa_model.py:473: ValueWarning: An unsupported index was provided and will be ignored when e.g. forecasting.\n",
            "  self._init_dates(dates, freq)\n"
          ]
        },
        {
          "output_type": "stream",
          "name": "stdout",
          "text": [
            "[ 1.76467993 -1.67032445 -0.49501923 -1.90783147 -0.49237154 -1.86060043\n",
            " -1.66230294 -1.88533026 -1.85842396 -1.89492943 -1.89145269 -1.89745382\n",
            " -1.89704037 -1.8980313  -1.89798987 -1.89815424 -1.8981519  -1.8981793\n",
            " -1.89817967 -1.89818426 -1.89818445 -1.89818522 -1.89818527 -1.8981854\n",
            " -1.89818541 -1.89818544 -1.89818544 -1.89818544 -1.89818544 -1.89818544\n",
            " -1.89818544 -1.89818544 -1.89818544 -1.89818544 -1.89818544 -1.89818544\n",
            " -1.89818544 -1.89818544 -1.89818544 -1.89818544 -1.89818544 -1.89818544\n",
            " -1.89818544 -1.89818544 -1.89818544 -1.89818544 -1.89818544 -1.89818544\n",
            " -1.89818544 -1.89818544 -1.89818544 -1.89818544 -1.89818544 -1.89818544\n",
            " -1.89818544] 5.219556622599195\n",
            "Training set date range: 243 -- 248\n",
            "Validation set date range: 249 -- 249\n"
          ]
        },
        {
          "output_type": "stream",
          "name": "stderr",
          "text": [
            "/usr/local/lib/python3.10/dist-packages/statsmodels/tsa/base/tsa_model.py:836: ValueWarning: No supported index is available. Prediction results will be given with an integer index beginning at `start`.\n",
            "  return get_prediction_index(\n",
            "/usr/local/lib/python3.10/dist-packages/statsmodels/tsa/base/tsa_model.py:473: ValueWarning: An unsupported index was provided and will be ignored when e.g. forecasting.\n",
            "  self._init_dates(dates, freq)\n",
            "/usr/local/lib/python3.10/dist-packages/statsmodels/tsa/base/tsa_model.py:473: ValueWarning: An unsupported index was provided and will be ignored when e.g. forecasting.\n",
            "  self._init_dates(dates, freq)\n",
            "/usr/local/lib/python3.10/dist-packages/statsmodels/tsa/base/tsa_model.py:473: ValueWarning: An unsupported index was provided and will be ignored when e.g. forecasting.\n",
            "  self._init_dates(dates, freq)\n"
          ]
        },
        {
          "output_type": "stream",
          "name": "stdout",
          "text": [
            "[-0.682031   -0.91295074 -2.59248767 -1.3059123  -2.15312833  0.51558035\n",
            "  0.23211532 -0.03560237  0.03538851  0.05616492  0.04499729  0.0441934\n",
            "  0.04559806  0.0454902   0.04534338  0.04537682  0.045389    0.0453834\n",
            "  0.04538279  0.04538352  0.04538349  0.04538341  0.04538342  0.04538343\n",
            "  0.04538343  0.04538343  0.04538343  0.04538343  0.04538343  0.04538343\n",
            "  0.04538343  0.04538343  0.04538343  0.04538343  0.04538343  0.04538343\n",
            "  0.04538343  0.04538343  0.04538343  0.04538343  0.04538343  0.04538343\n",
            "  0.04538343  0.04538343  0.04538343  0.04538343  0.04538343  0.04538343\n",
            "  0.04538343  0.04538343  0.04538343  0.04538343  0.04538343  0.04538343\n",
            "  0.04538343] 7.023348202320276\n",
            "Training set date range: 250 -- 255\n",
            "Validation set date range: 256 -- 256\n"
          ]
        },
        {
          "output_type": "stream",
          "name": "stderr",
          "text": [
            "/usr/local/lib/python3.10/dist-packages/statsmodels/base/model.py:607: ConvergenceWarning: Maximum Likelihood optimization failed to converge. Check mle_retvals\n",
            "  warnings.warn(\"Maximum Likelihood optimization failed to \"\n",
            "/usr/local/lib/python3.10/dist-packages/statsmodels/tsa/base/tsa_model.py:836: ValueWarning: No supported index is available. Prediction results will be given with an integer index beginning at `start`.\n",
            "  return get_prediction_index(\n",
            "/usr/local/lib/python3.10/dist-packages/statsmodels/tsa/base/tsa_model.py:473: ValueWarning: An unsupported index was provided and will be ignored when e.g. forecasting.\n",
            "  self._init_dates(dates, freq)\n",
            "/usr/local/lib/python3.10/dist-packages/statsmodels/tsa/base/tsa_model.py:473: ValueWarning: An unsupported index was provided and will be ignored when e.g. forecasting.\n",
            "  self._init_dates(dates, freq)\n",
            "/usr/local/lib/python3.10/dist-packages/statsmodels/tsa/base/tsa_model.py:473: ValueWarning: An unsupported index was provided and will be ignored when e.g. forecasting.\n",
            "  self._init_dates(dates, freq)\n"
          ]
        },
        {
          "output_type": "stream",
          "name": "stdout",
          "text": [
            "[-2.41175609  0.35892273  1.97165724  2.62733906  2.48372129  0.71514213\n",
            "  0.30822688  0.21675385  0.19620264  0.19158546  0.19054814  0.19031509\n",
            "  0.19026273  0.19025097  0.19024832  0.19024773  0.1902476   0.19024757\n",
            "  0.19024756  0.19024756  0.19024756  0.19024756  0.19024756  0.19024756\n",
            "  0.19024756  0.19024756  0.19024756  0.19024756  0.19024756  0.19024756\n",
            "  0.19024756  0.19024756  0.19024756  0.19024756  0.19024756  0.19024756\n",
            "  0.19024756  0.19024756  0.19024756  0.19024756  0.19024756  0.19024756\n",
            "  0.19024756  0.19024756  0.19024756  0.19024756  0.19024756  0.19024756\n",
            "  0.19024756  0.19024756  0.19024756  0.19024756  0.19024756  0.19024756\n",
            "  0.19024756] 4.797939533530005\n",
            "Training set date range: 257 -- 262\n",
            "Validation set date range: 263 -- 263\n"
          ]
        },
        {
          "output_type": "stream",
          "name": "stderr",
          "text": [
            "/usr/local/lib/python3.10/dist-packages/statsmodels/tsa/base/tsa_model.py:836: ValueWarning: No supported index is available. Prediction results will be given with an integer index beginning at `start`.\n",
            "  return get_prediction_index(\n",
            "/usr/local/lib/python3.10/dist-packages/statsmodels/tsa/base/tsa_model.py:473: ValueWarning: An unsupported index was provided and will be ignored when e.g. forecasting.\n",
            "  self._init_dates(dates, freq)\n",
            "/usr/local/lib/python3.10/dist-packages/statsmodels/tsa/base/tsa_model.py:473: ValueWarning: An unsupported index was provided and will be ignored when e.g. forecasting.\n",
            "  self._init_dates(dates, freq)\n",
            "/usr/local/lib/python3.10/dist-packages/statsmodels/tsa/base/tsa_model.py:473: ValueWarning: An unsupported index was provided and will be ignored when e.g. forecasting.\n",
            "  self._init_dates(dates, freq)\n"
          ]
        },
        {
          "output_type": "stream",
          "name": "stdout",
          "text": [
            "[-3.34217591 -3.19289289 -5.86199932 -2.65367702  1.52731413  1.36266822\n",
            "  0.77260348  0.78157414  0.86450903  0.86523475  0.85362558  0.85324622\n",
            "  0.85486462  0.8549565   0.85473182  0.85471357  0.85474463  0.85474793\n",
            "  0.85474365  0.85474309  0.85474367  0.85474377  0.85474369  0.85474367\n",
            "  0.85474368  0.85474369  0.85474368  0.85474368  0.85474368  0.85474368\n",
            "  0.85474368  0.85474368  0.85474368  0.85474368  0.85474368  0.85474368\n",
            "  0.85474368  0.85474368  0.85474368  0.85474368  0.85474368  0.85474368\n",
            "  0.85474368  0.85474368  0.85474368  0.85474368  0.85474368  0.85474368\n",
            "  0.85474368  0.85474368  0.85474368  0.85474368  0.85474368  0.85474368\n",
            "  0.85474368] 5.192926772321558\n",
            "Training set date range: 264 -- 269\n",
            "Validation set date range: 270 -- 270\n"
          ]
        },
        {
          "output_type": "stream",
          "name": "stderr",
          "text": [
            "/usr/local/lib/python3.10/dist-packages/statsmodels/base/model.py:607: ConvergenceWarning: Maximum Likelihood optimization failed to converge. Check mle_retvals\n",
            "  warnings.warn(\"Maximum Likelihood optimization failed to \"\n",
            "/usr/local/lib/python3.10/dist-packages/statsmodels/tsa/base/tsa_model.py:836: ValueWarning: No supported index is available. Prediction results will be given with an integer index beginning at `start`.\n",
            "  return get_prediction_index(\n",
            "/usr/local/lib/python3.10/dist-packages/statsmodels/tsa/base/tsa_model.py:473: ValueWarning: An unsupported index was provided and will be ignored when e.g. forecasting.\n",
            "  self._init_dates(dates, freq)\n",
            "/usr/local/lib/python3.10/dist-packages/statsmodels/tsa/base/tsa_model.py:473: ValueWarning: An unsupported index was provided and will be ignored when e.g. forecasting.\n",
            "  self._init_dates(dates, freq)\n",
            "/usr/local/lib/python3.10/dist-packages/statsmodels/tsa/base/tsa_model.py:473: ValueWarning: An unsupported index was provided and will be ignored when e.g. forecasting.\n",
            "  self._init_dates(dates, freq)\n"
          ]
        },
        {
          "output_type": "stream",
          "name": "stdout",
          "text": [
            "[ 3.50568569  2.39491568  1.26281836  0.89331399  0.87268423 -0.33005948\n",
            " -0.31032716 -0.15702344 -0.16172249 -0.1812318  -0.18035441 -0.17787564\n",
            " -0.17802292 -0.17833735 -0.17831407 -0.17827425 -0.17827779 -0.17828283\n",
            " -0.1782823  -0.17828167 -0.17828174 -0.17828182 -0.17828181 -0.1782818\n",
            " -0.1782818  -0.17828181 -0.17828181 -0.17828181 -0.17828181 -0.17828181\n",
            " -0.17828181 -0.17828181 -0.17828181 -0.17828181 -0.17828181 -0.17828181\n",
            " -0.17828181 -0.17828181 -0.17828181 -0.17828181 -0.17828181 -0.17828181\n",
            " -0.17828181 -0.17828181 -0.17828181 -0.17828181 -0.17828181 -0.17828181\n",
            " -0.17828181 -0.17828181 -0.17828181 -0.17828181 -0.17828181 -0.17828181\n",
            " -0.17828181] 3.6319843432184897\n",
            "Training set date range: 271 -- 276\n",
            "Validation set date range: 277 -- 277\n"
          ]
        },
        {
          "output_type": "stream",
          "name": "stderr",
          "text": [
            "/usr/local/lib/python3.10/dist-packages/statsmodels/base/model.py:607: ConvergenceWarning: Maximum Likelihood optimization failed to converge. Check mle_retvals\n",
            "  warnings.warn(\"Maximum Likelihood optimization failed to \"\n",
            "/usr/local/lib/python3.10/dist-packages/statsmodels/tsa/base/tsa_model.py:836: ValueWarning: No supported index is available. Prediction results will be given with an integer index beginning at `start`.\n",
            "  return get_prediction_index(\n",
            "/usr/local/lib/python3.10/dist-packages/statsmodels/tsa/base/tsa_model.py:473: ValueWarning: An unsupported index was provided and will be ignored when e.g. forecasting.\n",
            "  self._init_dates(dates, freq)\n",
            "/usr/local/lib/python3.10/dist-packages/statsmodels/tsa/base/tsa_model.py:473: ValueWarning: An unsupported index was provided and will be ignored when e.g. forecasting.\n",
            "  self._init_dates(dates, freq)\n",
            "/usr/local/lib/python3.10/dist-packages/statsmodels/tsa/base/tsa_model.py:473: ValueWarning: An unsupported index was provided and will be ignored when e.g. forecasting.\n",
            "  self._init_dates(dates, freq)\n"
          ]
        },
        {
          "output_type": "stream",
          "name": "stdout",
          "text": [
            "[0.10606465 2.30768933 2.5093566  1.03207195 1.02721379 0.64334935\n",
            " 0.65826179 0.67542501 0.67407935 0.67333794 0.67342847 0.67345926\n",
            " 0.6734539  0.67345268 0.67345298 0.67345302 0.67345301 0.673453\n",
            " 0.67345301 0.67345301 0.67345301 0.67345301 0.67345301 0.67345301\n",
            " 0.67345301 0.67345301 0.67345301 0.67345301 0.67345301 0.67345301\n",
            " 0.67345301 0.67345301 0.67345301 0.67345301 0.67345301 0.67345301\n",
            " 0.67345301 0.67345301 0.67345301 0.67345301 0.67345301 0.67345301\n",
            " 0.67345301 0.67345301 0.67345301 0.67345301 0.67345301 0.67345301\n",
            " 0.67345301 0.67345301 0.67345301 0.67345301 0.67345301 0.67345301\n",
            " 0.67345301] 3.3501290407323325\n",
            "Training set date range: 278 -- 283\n",
            "Validation set date range: 284 -- 284\n"
          ]
        },
        {
          "output_type": "stream",
          "name": "stderr",
          "text": [
            "/usr/local/lib/python3.10/dist-packages/statsmodels/base/model.py:607: ConvergenceWarning: Maximum Likelihood optimization failed to converge. Check mle_retvals\n",
            "  warnings.warn(\"Maximum Likelihood optimization failed to \"\n",
            "/usr/local/lib/python3.10/dist-packages/statsmodels/tsa/base/tsa_model.py:836: ValueWarning: No supported index is available. Prediction results will be given with an integer index beginning at `start`.\n",
            "  return get_prediction_index(\n",
            "/usr/local/lib/python3.10/dist-packages/statsmodels/tsa/base/tsa_model.py:473: ValueWarning: An unsupported index was provided and will be ignored when e.g. forecasting.\n",
            "  self._init_dates(dates, freq)\n",
            "/usr/local/lib/python3.10/dist-packages/statsmodels/tsa/base/tsa_model.py:473: ValueWarning: An unsupported index was provided and will be ignored when e.g. forecasting.\n",
            "  self._init_dates(dates, freq)\n",
            "/usr/local/lib/python3.10/dist-packages/statsmodels/tsa/base/tsa_model.py:473: ValueWarning: An unsupported index was provided and will be ignored when e.g. forecasting.\n",
            "  self._init_dates(dates, freq)\n"
          ]
        },
        {
          "output_type": "stream",
          "name": "stdout",
          "text": [
            "[-5.9774783  -6.12256627 -7.47640328 -3.99861253 -3.16675146 -1.77586968\n",
            " -1.49464951 -1.44101178 -1.43082333 -1.42888862 -1.42852124 -1.42845148\n",
            " -1.42843824 -1.42843572 -1.42843524 -1.42843515 -1.42843514 -1.42843513\n",
            " -1.42843513 -1.42843513 -1.42843513 -1.42843513 -1.42843513 -1.42843513\n",
            " -1.42843513 -1.42843513 -1.42843513 -1.42843513 -1.42843513 -1.42843513\n",
            " -1.42843513 -1.42843513 -1.42843513 -1.42843513 -1.42843513 -1.42843513\n",
            " -1.42843513 -1.42843513 -1.42843513 -1.42843513 -1.42843513 -1.42843513\n",
            " -1.42843513 -1.42843513 -1.42843513 -1.42843513 -1.42843513 -1.42843513\n",
            " -1.42843513 -1.42843513 -1.42843513 -1.42843513 -1.42843513 -1.42843513\n",
            " -1.42843513] 3.229030779911416\n",
            "Training set date range: 285 -- 290\n",
            "Validation set date range: 291 -- 291\n"
          ]
        },
        {
          "output_type": "stream",
          "name": "stderr",
          "text": [
            "/usr/local/lib/python3.10/dist-packages/statsmodels/tsa/base/tsa_model.py:836: ValueWarning: No supported index is available. Prediction results will be given with an integer index beginning at `start`.\n",
            "  return get_prediction_index(\n",
            "/usr/local/lib/python3.10/dist-packages/statsmodels/tsa/base/tsa_model.py:473: ValueWarning: An unsupported index was provided and will be ignored when e.g. forecasting.\n",
            "  self._init_dates(dates, freq)\n",
            "/usr/local/lib/python3.10/dist-packages/statsmodels/tsa/base/tsa_model.py:473: ValueWarning: An unsupported index was provided and will be ignored when e.g. forecasting.\n",
            "  self._init_dates(dates, freq)\n",
            "/usr/local/lib/python3.10/dist-packages/statsmodels/tsa/base/tsa_model.py:473: ValueWarning: An unsupported index was provided and will be ignored when e.g. forecasting.\n",
            "  self._init_dates(dates, freq)\n"
          ]
        },
        {
          "output_type": "stream",
          "name": "stdout",
          "text": [
            "[ 7.26983953  6.84894942  6.92931302  2.92107122  3.59995247 -0.2657731\n",
            "  0.19353711 -0.10093163 -0.04011074 -0.06532355 -0.0587537  -0.06105915\n",
            " -0.0603945  -0.06061219 -0.06054662 -0.06056748 -0.06056108 -0.06056309\n",
            " -0.06056247 -0.06056266 -0.0605626  -0.06056262 -0.06056261 -0.06056261\n",
            " -0.06056261 -0.06056261 -0.06056261 -0.06056261 -0.06056261 -0.06056261\n",
            " -0.06056261 -0.06056261 -0.06056261 -0.06056261 -0.06056261 -0.06056261\n",
            " -0.06056261 -0.06056261 -0.06056261 -0.06056261 -0.06056261 -0.06056261\n",
            " -0.06056261 -0.06056261 -0.06056261 -0.06056261 -0.06056261 -0.06056261\n",
            " -0.06056261 -0.06056261 -0.06056261 -0.06056261 -0.06056261 -0.06056261\n",
            " -0.06056261] 3.7596541199002687\n",
            "Training set date range: 292 -- 297\n",
            "Validation set date range: 298 -- 298\n"
          ]
        },
        {
          "output_type": "stream",
          "name": "stderr",
          "text": [
            "/usr/local/lib/python3.10/dist-packages/statsmodels/tsa/base/tsa_model.py:836: ValueWarning: No supported index is available. Prediction results will be given with an integer index beginning at `start`.\n",
            "  return get_prediction_index(\n",
            "/usr/local/lib/python3.10/dist-packages/statsmodels/tsa/base/tsa_model.py:473: ValueWarning: An unsupported index was provided and will be ignored when e.g. forecasting.\n",
            "  self._init_dates(dates, freq)\n",
            "/usr/local/lib/python3.10/dist-packages/statsmodels/tsa/base/tsa_model.py:473: ValueWarning: An unsupported index was provided and will be ignored when e.g. forecasting.\n",
            "  self._init_dates(dates, freq)\n",
            "/usr/local/lib/python3.10/dist-packages/statsmodels/tsa/base/tsa_model.py:473: ValueWarning: An unsupported index was provided and will be ignored when e.g. forecasting.\n",
            "  self._init_dates(dates, freq)\n"
          ]
        },
        {
          "output_type": "stream",
          "name": "stdout",
          "text": [
            "[0.11005329 1.18992771 1.59801367 0.05202082 1.12850531 0.72083219\n",
            " 0.6625889  0.69398225 0.69672358 0.69438266 0.69429155 0.69446113\n",
            " 0.69446013 0.69444817 0.69444877 0.69444959 0.69444951 0.69444946\n",
            " 0.69444946 0.69444947 0.69444947 0.69444947 0.69444947 0.69444947\n",
            " 0.69444947 0.69444947 0.69444947 0.69444947 0.69444947 0.69444947\n",
            " 0.69444947 0.69444947 0.69444947 0.69444947 0.69444947 0.69444947\n",
            " 0.69444947 0.69444947 0.69444947 0.69444947 0.69444947 0.69444947\n",
            " 0.69444947 0.69444947 0.69444947 0.69444947 0.69444947 0.69444947\n",
            " 0.69444947 0.69444947 0.69444947 0.69444947 0.69444947 0.69444947\n",
            " 0.69444947] 3.3330267559468116\n",
            "Training set date range: 299 -- 304\n",
            "Validation set date range: 305 -- 305\n"
          ]
        },
        {
          "output_type": "stream",
          "name": "stderr",
          "text": [
            "/usr/local/lib/python3.10/dist-packages/statsmodels/base/model.py:607: ConvergenceWarning: Maximum Likelihood optimization failed to converge. Check mle_retvals\n",
            "  warnings.warn(\"Maximum Likelihood optimization failed to \"\n",
            "/usr/local/lib/python3.10/dist-packages/statsmodels/tsa/base/tsa_model.py:836: ValueWarning: No supported index is available. Prediction results will be given with an integer index beginning at `start`.\n",
            "  return get_prediction_index(\n",
            "/usr/local/lib/python3.10/dist-packages/statsmodels/tsa/base/tsa_model.py:473: ValueWarning: An unsupported index was provided and will be ignored when e.g. forecasting.\n",
            "  self._init_dates(dates, freq)\n",
            "/usr/local/lib/python3.10/dist-packages/statsmodels/tsa/base/tsa_model.py:473: ValueWarning: An unsupported index was provided and will be ignored when e.g. forecasting.\n",
            "  self._init_dates(dates, freq)\n",
            "/usr/local/lib/python3.10/dist-packages/statsmodels/tsa/base/tsa_model.py:473: ValueWarning: An unsupported index was provided and will be ignored when e.g. forecasting.\n",
            "  self._init_dates(dates, freq)\n"
          ]
        },
        {
          "output_type": "stream",
          "name": "stdout",
          "text": [
            "[ 2.89610475  3.0868411   2.6192608   1.7494664  -0.56076986 -0.35729881\n",
            " -0.74249136 -0.76496665 -0.83785218 -0.8530963  -0.86857549 -0.87370045\n",
            " -0.87727772 -0.87875089 -0.87962195 -0.88002126 -0.8802396  -0.88034511\n",
            " -0.88040067 -0.88042822 -0.88044246 -0.88044962 -0.88045328 -0.88045514\n",
            " -0.88045608 -0.88045656 -0.88045681 -0.88045693 -0.88045699 -0.88045702\n",
            " -0.88045704 -0.88045705 -0.88045705 -0.88045706 -0.88045706 -0.88045706\n",
            " -0.88045706 -0.88045706 -0.88045706 -0.88045706 -0.88045706 -0.88045706\n",
            " -0.88045706 -0.88045706 -0.88045706 -0.88045706 -0.88045706 -0.88045706\n",
            " -0.88045706 -0.88045706 -0.88045706 -0.88045706 -0.88045706 -0.88045706\n",
            " -0.88045706] 3.759503396059414\n",
            "Training set date range: 306 -- 311\n",
            "Validation set date range: 312 -- 312\n"
          ]
        },
        {
          "output_type": "stream",
          "name": "stderr",
          "text": [
            "/usr/local/lib/python3.10/dist-packages/statsmodels/tsa/base/tsa_model.py:836: ValueWarning: No supported index is available. Prediction results will be given with an integer index beginning at `start`.\n",
            "  return get_prediction_index(\n",
            "/usr/local/lib/python3.10/dist-packages/statsmodels/tsa/base/tsa_model.py:473: ValueWarning: An unsupported index was provided and will be ignored when e.g. forecasting.\n",
            "  self._init_dates(dates, freq)\n",
            "/usr/local/lib/python3.10/dist-packages/statsmodels/tsa/base/tsa_model.py:473: ValueWarning: An unsupported index was provided and will be ignored when e.g. forecasting.\n",
            "  self._init_dates(dates, freq)\n",
            "/usr/local/lib/python3.10/dist-packages/statsmodels/tsa/base/tsa_model.py:473: ValueWarning: An unsupported index was provided and will be ignored when e.g. forecasting.\n",
            "  self._init_dates(dates, freq)\n"
          ]
        },
        {
          "output_type": "stream",
          "name": "stdout",
          "text": [
            "[3.67782465 3.14730837 2.39904295 2.19138505 1.95326271 1.41997617\n",
            " 1.41161924 1.52585565 1.54046693 1.51743342 1.51169567 1.51602696\n",
            " 1.5177517  1.51700962 1.51655394 1.51666313 1.51677378 1.5167626\n",
            " 1.51673745 1.51673705 1.51674243 1.51674312 1.51674204 1.51674177\n",
            " 1.51674197 1.51674205 1.51674202 1.516742   1.516742   1.51674201\n",
            " 1.51674201 1.516742   1.516742   1.516742   1.516742   1.516742\n",
            " 1.516742   1.516742   1.516742   1.516742   1.516742   1.516742\n",
            " 1.516742   1.516742   1.516742   1.516742   1.516742   1.516742\n",
            " 1.516742   1.516742   1.516742   1.516742   1.516742   1.516742\n",
            " 1.516742  ] 5.195100486935121\n",
            "Training set date range: 313 -- 318\n",
            "Validation set date range: 319 -- 319\n"
          ]
        },
        {
          "output_type": "stream",
          "name": "stderr",
          "text": [
            "/usr/local/lib/python3.10/dist-packages/statsmodels/base/model.py:607: ConvergenceWarning: Maximum Likelihood optimization failed to converge. Check mle_retvals\n",
            "  warnings.warn(\"Maximum Likelihood optimization failed to \"\n",
            "/usr/local/lib/python3.10/dist-packages/statsmodels/tsa/base/tsa_model.py:836: ValueWarning: No supported index is available. Prediction results will be given with an integer index beginning at `start`.\n",
            "  return get_prediction_index(\n",
            "/usr/local/lib/python3.10/dist-packages/statsmodels/tsa/base/tsa_model.py:473: ValueWarning: An unsupported index was provided and will be ignored when e.g. forecasting.\n",
            "  self._init_dates(dates, freq)\n",
            "/usr/local/lib/python3.10/dist-packages/statsmodels/tsa/base/tsa_model.py:473: ValueWarning: An unsupported index was provided and will be ignored when e.g. forecasting.\n",
            "  self._init_dates(dates, freq)\n",
            "/usr/local/lib/python3.10/dist-packages/statsmodels/tsa/base/tsa_model.py:473: ValueWarning: An unsupported index was provided and will be ignored when e.g. forecasting.\n",
            "  self._init_dates(dates, freq)\n"
          ]
        },
        {
          "output_type": "stream",
          "name": "stdout",
          "text": [
            "[-1.14326159 -1.7398652  -0.7111655  -2.14186235 -2.23155111 -0.69031352\n",
            " -0.65693551 -0.54702805 -0.54183371 -0.53392355 -0.53335216 -0.53277776\n",
            " -0.53272253 -0.53268047 -0.53267548 -0.53267237 -0.53267194 -0.53267171\n",
            " -0.53267167 -0.53267165 -0.53267165 -0.53267165 -0.53267165 -0.53267165\n",
            " -0.53267165 -0.53267165 -0.53267165 -0.53267165 -0.53267165 -0.53267165\n",
            " -0.53267165 -0.53267165 -0.53267165 -0.53267165 -0.53267165 -0.53267165\n",
            " -0.53267165 -0.53267165 -0.53267165 -0.53267165 -0.53267165 -0.53267165\n",
            " -0.53267165 -0.53267165 -0.53267165 -0.53267165 -0.53267165 -0.53267165\n",
            " -0.53267165 -0.53267165 -0.53267165 -0.53267165 -0.53267165 -0.53267165\n",
            " -0.53267165] 3.0326787308874845\n",
            "Training set date range: 320 -- 325\n",
            "Validation set date range: 326 -- 326\n"
          ]
        },
        {
          "output_type": "stream",
          "name": "stderr",
          "text": [
            "/usr/local/lib/python3.10/dist-packages/statsmodels/base/model.py:607: ConvergenceWarning: Maximum Likelihood optimization failed to converge. Check mle_retvals\n",
            "  warnings.warn(\"Maximum Likelihood optimization failed to \"\n",
            "/usr/local/lib/python3.10/dist-packages/statsmodels/tsa/base/tsa_model.py:836: ValueWarning: No supported index is available. Prediction results will be given with an integer index beginning at `start`.\n",
            "  return get_prediction_index(\n",
            "/usr/local/lib/python3.10/dist-packages/statsmodels/tsa/base/tsa_model.py:473: ValueWarning: An unsupported index was provided and will be ignored when e.g. forecasting.\n",
            "  self._init_dates(dates, freq)\n",
            "/usr/local/lib/python3.10/dist-packages/statsmodels/tsa/base/tsa_model.py:473: ValueWarning: An unsupported index was provided and will be ignored when e.g. forecasting.\n",
            "  self._init_dates(dates, freq)\n",
            "/usr/local/lib/python3.10/dist-packages/statsmodels/tsa/base/tsa_model.py:473: ValueWarning: An unsupported index was provided and will be ignored when e.g. forecasting.\n",
            "  self._init_dates(dates, freq)\n"
          ]
        },
        {
          "output_type": "stream",
          "name": "stdout",
          "text": [
            "[-3.53725235 -3.1554649  -2.76097956 -2.11987407 -1.14227667 -0.09563858\n",
            " -0.26906718 -0.35325123 -0.33044498 -0.32436851 -0.32697588 -0.3273391\n",
            " -0.327067   -0.32705441 -0.32708082 -0.32707992 -0.32707753 -0.3270778\n",
            " -0.327078   -0.32707796 -0.32707794 -0.32707795 -0.32707795 -0.32707795\n",
            " -0.32707795 -0.32707795 -0.32707795 -0.32707795 -0.32707795 -0.32707795\n",
            " -0.32707795 -0.32707795 -0.32707795 -0.32707795 -0.32707795 -0.32707795\n",
            " -0.32707795 -0.32707795 -0.32707795 -0.32707795 -0.32707795 -0.32707795\n",
            " -0.32707795 -0.32707795 -0.32707795 -0.32707795 -0.32707795 -0.32707795\n",
            " -0.32707795 -0.32707795 -0.32707795 -0.32707795 -0.32707795 -0.32707795\n",
            " -0.32707795] 4.320882214220603\n",
            "Training set date range: 327 -- 332\n",
            "Validation set date range: 333 -- 333\n"
          ]
        },
        {
          "output_type": "stream",
          "name": "stderr",
          "text": [
            "/usr/local/lib/python3.10/dist-packages/statsmodels/base/model.py:607: ConvergenceWarning: Maximum Likelihood optimization failed to converge. Check mle_retvals\n",
            "  warnings.warn(\"Maximum Likelihood optimization failed to \"\n",
            "/usr/local/lib/python3.10/dist-packages/statsmodels/tsa/base/tsa_model.py:836: ValueWarning: No supported index is available. Prediction results will be given with an integer index beginning at `start`.\n",
            "  return get_prediction_index(\n",
            "/usr/local/lib/python3.10/dist-packages/statsmodels/tsa/base/tsa_model.py:473: ValueWarning: An unsupported index was provided and will be ignored when e.g. forecasting.\n",
            "  self._init_dates(dates, freq)\n",
            "/usr/local/lib/python3.10/dist-packages/statsmodels/tsa/base/tsa_model.py:473: ValueWarning: An unsupported index was provided and will be ignored when e.g. forecasting.\n",
            "  self._init_dates(dates, freq)\n",
            "/usr/local/lib/python3.10/dist-packages/statsmodels/tsa/base/tsa_model.py:473: ValueWarning: An unsupported index was provided and will be ignored when e.g. forecasting.\n",
            "  self._init_dates(dates, freq)\n"
          ]
        },
        {
          "output_type": "stream",
          "name": "stdout",
          "text": [
            "[ 3.91513248  3.46035104  3.97428605  4.15072152  1.9327669  -0.26072673\n",
            "  0.18763472  0.16537952  0.15758401  0.15955426  0.15940813  0.15938248\n",
            "  0.15939087  0.15939005  0.15938998  0.15939001  0.15939001  0.15939001\n",
            "  0.15939001  0.15939001  0.15939001  0.15939001  0.15939001  0.15939001\n",
            "  0.15939001  0.15939001  0.15939001  0.15939001  0.15939001  0.15939001\n",
            "  0.15939001  0.15939001  0.15939001  0.15939001  0.15939001  0.15939001\n",
            "  0.15939001  0.15939001  0.15939001  0.15939001  0.15939001  0.15939001\n",
            "  0.15939001  0.15939001  0.15939001  0.15939001  0.15939001  0.15939001\n",
            "  0.15939001  0.15939001  0.15939001  0.15939001  0.15939001  0.15939001\n",
            "  0.15939001] 3.0402069305379253\n",
            "Training set date range: 334 -- 339\n",
            "Validation set date range: 340 -- 340\n"
          ]
        },
        {
          "output_type": "stream",
          "name": "stderr",
          "text": [
            "/usr/local/lib/python3.10/dist-packages/statsmodels/base/model.py:607: ConvergenceWarning: Maximum Likelihood optimization failed to converge. Check mle_retvals\n",
            "  warnings.warn(\"Maximum Likelihood optimization failed to \"\n",
            "/usr/local/lib/python3.10/dist-packages/statsmodels/tsa/base/tsa_model.py:836: ValueWarning: No supported index is available. Prediction results will be given with an integer index beginning at `start`.\n",
            "  return get_prediction_index(\n",
            "/usr/local/lib/python3.10/dist-packages/statsmodels/tsa/base/tsa_model.py:473: ValueWarning: An unsupported index was provided and will be ignored when e.g. forecasting.\n",
            "  self._init_dates(dates, freq)\n",
            "/usr/local/lib/python3.10/dist-packages/statsmodels/tsa/base/tsa_model.py:473: ValueWarning: An unsupported index was provided and will be ignored when e.g. forecasting.\n",
            "  self._init_dates(dates, freq)\n",
            "/usr/local/lib/python3.10/dist-packages/statsmodels/tsa/base/tsa_model.py:473: ValueWarning: An unsupported index was provided and will be ignored when e.g. forecasting.\n",
            "  self._init_dates(dates, freq)\n"
          ]
        },
        {
          "output_type": "stream",
          "name": "stdout",
          "text": [
            "[7.94885119 7.0710008  7.77189413 4.0268661  2.65602822 1.37397687\n",
            " 1.14114822 1.01561775 0.98487503 0.9718255  0.96810272 0.96669587\n",
            " 0.9662616  0.96610679 0.96605702 0.9660398  0.96603414 0.96603222\n",
            " 0.96603158 0.96603136 0.96603129 0.96603126 0.96603125 0.96603125\n",
            " 0.96603125 0.96603125 0.96603125 0.96603125 0.96603125 0.96603125\n",
            " 0.96603125 0.96603125 0.96603125 0.96603125 0.96603125 0.96603125\n",
            " 0.96603125 0.96603125 0.96603125 0.96603125 0.96603125 0.96603125\n",
            " 0.96603125 0.96603125 0.96603125 0.96603125 0.96603125 0.96603125\n",
            " 0.96603125 0.96603125 0.96603125 0.96603125 0.96603125 0.96603125\n",
            " 0.96603125] 2.3578422874484857\n",
            "Training set date range: 341 -- 346\n",
            "Validation set date range: 347 -- 347\n"
          ]
        },
        {
          "output_type": "stream",
          "name": "stderr",
          "text": [
            "/usr/local/lib/python3.10/dist-packages/statsmodels/base/model.py:607: ConvergenceWarning: Maximum Likelihood optimization failed to converge. Check mle_retvals\n",
            "  warnings.warn(\"Maximum Likelihood optimization failed to \"\n",
            "/usr/local/lib/python3.10/dist-packages/statsmodels/tsa/base/tsa_model.py:836: ValueWarning: No supported index is available. Prediction results will be given with an integer index beginning at `start`.\n",
            "  return get_prediction_index(\n",
            "/usr/local/lib/python3.10/dist-packages/statsmodels/tsa/base/tsa_model.py:473: ValueWarning: An unsupported index was provided and will be ignored when e.g. forecasting.\n",
            "  self._init_dates(dates, freq)\n",
            "/usr/local/lib/python3.10/dist-packages/statsmodels/tsa/base/tsa_model.py:473: ValueWarning: An unsupported index was provided and will be ignored when e.g. forecasting.\n",
            "  self._init_dates(dates, freq)\n",
            "/usr/local/lib/python3.10/dist-packages/statsmodels/tsa/base/tsa_model.py:473: ValueWarning: An unsupported index was provided and will be ignored when e.g. forecasting.\n",
            "  self._init_dates(dates, freq)\n"
          ]
        },
        {
          "output_type": "stream",
          "name": "stdout",
          "text": [
            "[-2.89004635e+00 -2.67421183e+00 -3.31395784e+00 -2.66061654e+00\n",
            "  1.46424041e-03  2.62027740e-01 -3.76860047e-01 -6.51991089e-01\n",
            " -5.66689140e-01 -4.64746170e-01 -4.55269481e-01 -4.79895808e-01\n",
            " -4.90347098e-01 -4.87009865e-01 -4.83106391e-01 -4.82762773e-01\n",
            " -4.83711894e-01 -4.84108830e-01 -4.83978333e-01 -4.83828881e-01\n",
            " -4.83816464e-01 -4.83853039e-01 -4.83868112e-01 -4.83863011e-01\n",
            " -4.83857290e-01 -4.83856843e-01 -4.83858252e-01 -4.83858824e-01\n",
            " -4.83858625e-01 -4.83858406e-01 -4.83858390e-01 -4.83858444e-01\n",
            " -4.83858466e-01 -4.83858458e-01 -4.83858450e-01 -4.83858449e-01\n",
            " -4.83858451e-01 -4.83858452e-01 -4.83858452e-01 -4.83858452e-01\n",
            " -4.83858452e-01 -4.83858452e-01 -4.83858452e-01 -4.83858452e-01\n",
            " -4.83858452e-01 -4.83858452e-01 -4.83858452e-01 -4.83858452e-01\n",
            " -4.83858452e-01 -4.83858452e-01 -4.83858452e-01 -4.83858452e-01\n",
            " -4.83858452e-01 -4.83858452e-01 -4.83858452e-01] 6.649806069291489\n",
            "Training set date range: 348 -- 353\n",
            "Validation set date range: 354 -- 354\n"
          ]
        },
        {
          "output_type": "stream",
          "name": "stderr",
          "text": [
            "/usr/local/lib/python3.10/dist-packages/statsmodels/base/model.py:607: ConvergenceWarning: Maximum Likelihood optimization failed to converge. Check mle_retvals\n",
            "  warnings.warn(\"Maximum Likelihood optimization failed to \"\n",
            "/usr/local/lib/python3.10/dist-packages/statsmodels/tsa/base/tsa_model.py:836: ValueWarning: No supported index is available. Prediction results will be given with an integer index beginning at `start`.\n",
            "  return get_prediction_index(\n",
            "/usr/local/lib/python3.10/dist-packages/statsmodels/tsa/base/tsa_model.py:473: ValueWarning: An unsupported index was provided and will be ignored when e.g. forecasting.\n",
            "  self._init_dates(dates, freq)\n",
            "/usr/local/lib/python3.10/dist-packages/statsmodels/tsa/base/tsa_model.py:473: ValueWarning: An unsupported index was provided and will be ignored when e.g. forecasting.\n",
            "  self._init_dates(dates, freq)\n",
            "/usr/local/lib/python3.10/dist-packages/statsmodels/tsa/base/tsa_model.py:473: ValueWarning: An unsupported index was provided and will be ignored when e.g. forecasting.\n",
            "  self._init_dates(dates, freq)\n"
          ]
        },
        {
          "output_type": "stream",
          "name": "stdout",
          "text": [
            "[ 3.93444735  2.47720898  1.16879874  1.36873231  0.3756967  -0.68878514\n",
            " -0.52103371 -0.3070403  -0.33448596 -0.37734128 -0.37305572 -0.36450493\n",
            " -0.36512557 -0.36682556 -0.36674773 -0.36641095 -0.36641748 -0.36648397\n",
            " -0.36648442 -0.36647134 -0.36647091 -0.36647347 -0.36647362 -0.36647312\n",
            " -0.36647308 -0.36647318 -0.36647319 -0.36647317 -0.36647317 -0.36647317\n",
            " -0.36647317 -0.36647317 -0.36647317 -0.36647317 -0.36647317 -0.36647317\n",
            " -0.36647317 -0.36647317 -0.36647317 -0.36647317 -0.36647317 -0.36647317\n",
            " -0.36647317 -0.36647317 -0.36647317 -0.36647317 -0.36647317 -0.36647317\n",
            " -0.36647317 -0.36647317 -0.36647317 -0.36647317 -0.36647317 -0.36647317\n",
            " -0.36647317] 2.463136650700237\n",
            "Training set date range: 355 -- 360\n",
            "Validation set date range: 361 -- 361\n"
          ]
        },
        {
          "output_type": "stream",
          "name": "stderr",
          "text": [
            "/usr/local/lib/python3.10/dist-packages/statsmodels/base/model.py:607: ConvergenceWarning: Maximum Likelihood optimization failed to converge. Check mle_retvals\n",
            "  warnings.warn(\"Maximum Likelihood optimization failed to \"\n",
            "/usr/local/lib/python3.10/dist-packages/statsmodels/tsa/base/tsa_model.py:836: ValueWarning: No supported index is available. Prediction results will be given with an integer index beginning at `start`.\n",
            "  return get_prediction_index(\n",
            "/usr/local/lib/python3.10/dist-packages/statsmodels/tsa/base/tsa_model.py:473: ValueWarning: An unsupported index was provided and will be ignored when e.g. forecasting.\n",
            "  self._init_dates(dates, freq)\n",
            "/usr/local/lib/python3.10/dist-packages/statsmodels/tsa/base/tsa_model.py:473: ValueWarning: An unsupported index was provided and will be ignored when e.g. forecasting.\n",
            "  self._init_dates(dates, freq)\n",
            "/usr/local/lib/python3.10/dist-packages/statsmodels/tsa/base/tsa_model.py:473: ValueWarning: An unsupported index was provided and will be ignored when e.g. forecasting.\n",
            "  self._init_dates(dates, freq)\n"
          ]
        },
        {
          "output_type": "stream",
          "name": "stdout",
          "text": [
            "[ 3.38673881  2.52987536  1.74868825  0.20353977  2.70359318 -1.0018983\n",
            " -0.75181427 -0.50717477 -0.55438205 -0.56693023 -0.56196671 -0.56162148\n",
            " -0.56202901 -0.56200671 -0.56197919 -0.56198407 -0.56198553 -0.561985\n",
            " -0.56198495 -0.561985   -0.561985   -0.56198499 -0.56198499 -0.56198499\n",
            " -0.56198499 -0.56198499 -0.56198499 -0.56198499 -0.56198499 -0.56198499\n",
            " -0.56198499 -0.56198499 -0.56198499 -0.56198499 -0.56198499 -0.56198499\n",
            " -0.56198499 -0.56198499 -0.56198499 -0.56198499 -0.56198499 -0.56198499\n",
            " -0.56198499 -0.56198499 -0.56198499 -0.56198499 -0.56198499 -0.56198499\n",
            " -0.56198499 -0.56198499 -0.56198499 -0.56198499 -0.56198499 -0.56198499\n",
            " -0.56198499] 5.6420343130516954\n",
            "Training set date range: 362 -- 367\n",
            "Validation set date range: 368 -- 368\n"
          ]
        },
        {
          "output_type": "stream",
          "name": "stderr",
          "text": [
            "/usr/local/lib/python3.10/dist-packages/statsmodels/base/model.py:607: ConvergenceWarning: Maximum Likelihood optimization failed to converge. Check mle_retvals\n",
            "  warnings.warn(\"Maximum Likelihood optimization failed to \"\n",
            "/usr/local/lib/python3.10/dist-packages/statsmodels/tsa/base/tsa_model.py:836: ValueWarning: No supported index is available. Prediction results will be given with an integer index beginning at `start`.\n",
            "  return get_prediction_index(\n",
            "/usr/local/lib/python3.10/dist-packages/statsmodels/tsa/base/tsa_model.py:473: ValueWarning: An unsupported index was provided and will be ignored when e.g. forecasting.\n",
            "  self._init_dates(dates, freq)\n",
            "/usr/local/lib/python3.10/dist-packages/statsmodels/tsa/base/tsa_model.py:473: ValueWarning: An unsupported index was provided and will be ignored when e.g. forecasting.\n",
            "  self._init_dates(dates, freq)\n",
            "/usr/local/lib/python3.10/dist-packages/statsmodels/tsa/base/tsa_model.py:473: ValueWarning: An unsupported index was provided and will be ignored when e.g. forecasting.\n",
            "  self._init_dates(dates, freq)\n"
          ]
        },
        {
          "output_type": "stream",
          "name": "stdout",
          "text": [
            "[-5.05910766 -3.62275505 -2.08457549 -2.56521108 -1.60541393 -0.32629399\n",
            " -0.46317627 -0.63490475 -0.61544528 -0.59239612 -0.5951546  -0.59824737\n",
            " -0.59785736 -0.59744248 -0.5974975  -0.59755313 -0.59754539 -0.59753793\n",
            " -0.59753902 -0.59754002 -0.59753987 -0.59753973 -0.59753975 -0.59753977\n",
            " -0.59753977 -0.59753977 -0.59753977 -0.59753977 -0.59753977 -0.59753977\n",
            " -0.59753977 -0.59753977 -0.59753977 -0.59753977 -0.59753977 -0.59753977\n",
            " -0.59753977 -0.59753977 -0.59753977 -0.59753977 -0.59753977 -0.59753977\n",
            " -0.59753977 -0.59753977 -0.59753977 -0.59753977 -0.59753977 -0.59753977\n",
            " -0.59753977 -0.59753977 -0.59753977 -0.59753977 -0.59753977 -0.59753977\n",
            " -0.59753977] 3.741311154514909\n",
            "Training set date range: 369 -- 374\n",
            "Validation set date range: 375 -- 375\n"
          ]
        },
        {
          "output_type": "stream",
          "name": "stderr",
          "text": [
            "/usr/local/lib/python3.10/dist-packages/statsmodels/tsa/base/tsa_model.py:836: ValueWarning: No supported index is available. Prediction results will be given with an integer index beginning at `start`.\n",
            "  return get_prediction_index(\n",
            "/usr/local/lib/python3.10/dist-packages/statsmodels/tsa/base/tsa_model.py:473: ValueWarning: An unsupported index was provided and will be ignored when e.g. forecasting.\n",
            "  self._init_dates(dates, freq)\n",
            "/usr/local/lib/python3.10/dist-packages/statsmodels/tsa/base/tsa_model.py:473: ValueWarning: An unsupported index was provided and will be ignored when e.g. forecasting.\n",
            "  self._init_dates(dates, freq)\n",
            "/usr/local/lib/python3.10/dist-packages/statsmodels/tsa/base/tsa_model.py:473: ValueWarning: An unsupported index was provided and will be ignored when e.g. forecasting.\n",
            "  self._init_dates(dates, freq)\n"
          ]
        },
        {
          "output_type": "stream",
          "name": "stdout",
          "text": [
            "[ 0.41199573  0.83237473 -0.78404315  0.31225121  0.55997585  0.27526766\n",
            "  0.2771422   0.26866657  0.26855794  0.26830243  0.26829422  0.26828642\n",
            "  0.26828602  0.26828578  0.26828576  0.26828575  0.26828575  0.26828575\n",
            "  0.26828575  0.26828575  0.26828575  0.26828575  0.26828575  0.26828575\n",
            "  0.26828575  0.26828575  0.26828575  0.26828575  0.26828575  0.26828575\n",
            "  0.26828575  0.26828575  0.26828575  0.26828575  0.26828575  0.26828575\n",
            "  0.26828575  0.26828575  0.26828575  0.26828575  0.26828575  0.26828575\n",
            "  0.26828575  0.26828575  0.26828575  0.26828575  0.26828575  0.26828575\n",
            "  0.26828575  0.26828575  0.26828575  0.26828575  0.26828575  0.26828575\n",
            "  0.26828575] 3.372863047518704\n",
            "Training set date range: 376 -- 381\n",
            "Validation set date range: 382 -- 382\n"
          ]
        },
        {
          "output_type": "stream",
          "name": "stderr",
          "text": [
            "/usr/local/lib/python3.10/dist-packages/statsmodels/tsa/base/tsa_model.py:836: ValueWarning: No supported index is available. Prediction results will be given with an integer index beginning at `start`.\n",
            "  return get_prediction_index(\n",
            "/usr/local/lib/python3.10/dist-packages/statsmodels/tsa/base/tsa_model.py:473: ValueWarning: An unsupported index was provided and will be ignored when e.g. forecasting.\n",
            "  self._init_dates(dates, freq)\n",
            "/usr/local/lib/python3.10/dist-packages/statsmodels/tsa/base/tsa_model.py:473: ValueWarning: An unsupported index was provided and will be ignored when e.g. forecasting.\n",
            "  self._init_dates(dates, freq)\n",
            "/usr/local/lib/python3.10/dist-packages/statsmodels/tsa/base/tsa_model.py:473: ValueWarning: An unsupported index was provided and will be ignored when e.g. forecasting.\n",
            "  self._init_dates(dates, freq)\n"
          ]
        },
        {
          "output_type": "stream",
          "name": "stdout",
          "text": [
            "[-2.11704985 -1.06292831  0.27551522  0.1826973   0.85354823  1.92308949\n",
            "  1.83494294  1.97690627  1.9439877   1.9661734   1.95873655  1.9625648\n",
            "  1.96107119  1.9617649   1.96147676  1.96160523  1.96155048  1.96157449\n",
            "  1.96156415  1.96156866  1.96156671  1.96156756  1.96156719  1.96156735\n",
            "  1.96156728  1.96156731  1.9615673   1.9615673   1.9615673   1.9615673\n",
            "  1.9615673   1.9615673   1.9615673   1.9615673   1.9615673   1.9615673\n",
            "  1.9615673   1.9615673   1.9615673   1.9615673   1.9615673   1.9615673\n",
            "  1.9615673   1.9615673   1.9615673   1.9615673   1.9615673   1.9615673\n",
            "  1.9615673   1.9615673   1.9615673   1.9615673   1.9615673   1.9615673\n",
            "  1.9615673 ] 4.346324116051878\n",
            "Training set date range: 383 -- 388\n",
            "Validation set date range: 389 -- 389\n"
          ]
        },
        {
          "output_type": "stream",
          "name": "stderr",
          "text": [
            "/usr/local/lib/python3.10/dist-packages/statsmodels/base/model.py:607: ConvergenceWarning: Maximum Likelihood optimization failed to converge. Check mle_retvals\n",
            "  warnings.warn(\"Maximum Likelihood optimization failed to \"\n",
            "/usr/local/lib/python3.10/dist-packages/statsmodels/tsa/base/tsa_model.py:836: ValueWarning: No supported index is available. Prediction results will be given with an integer index beginning at `start`.\n",
            "  return get_prediction_index(\n",
            "/usr/local/lib/python3.10/dist-packages/statsmodels/tsa/base/tsa_model.py:473: ValueWarning: An unsupported index was provided and will be ignored when e.g. forecasting.\n",
            "  self._init_dates(dates, freq)\n",
            "/usr/local/lib/python3.10/dist-packages/statsmodels/tsa/base/tsa_model.py:473: ValueWarning: An unsupported index was provided and will be ignored when e.g. forecasting.\n",
            "  self._init_dates(dates, freq)\n",
            "/usr/local/lib/python3.10/dist-packages/statsmodels/tsa/base/tsa_model.py:473: ValueWarning: An unsupported index was provided and will be ignored when e.g. forecasting.\n",
            "  self._init_dates(dates, freq)\n"
          ]
        },
        {
          "output_type": "stream",
          "name": "stdout",
          "text": [
            "[ 0.03500717  0.81634574 -0.03971812 -0.46148705 -1.23397222  0.38046298\n",
            "  0.33287683  0.43184716  0.42891586  0.43498307  0.43480251  0.43517445\n",
            "  0.43516333  0.43518613  0.43518545  0.43518684  0.4351868   0.43518689\n",
            "  0.43518688  0.43518689  0.43518689  0.43518689  0.43518689  0.43518689\n",
            "  0.43518689  0.43518689  0.43518689  0.43518689  0.43518689  0.43518689\n",
            "  0.43518689  0.43518689  0.43518689  0.43518689  0.43518689  0.43518689\n",
            "  0.43518689  0.43518689  0.43518689  0.43518689  0.43518689  0.43518689\n",
            "  0.43518689  0.43518689  0.43518689  0.43518689  0.43518689  0.43518689\n",
            "  0.43518689  0.43518689  0.43518689  0.43518689  0.43518689  0.43518689\n",
            "  0.43518689] 2.8609210452241016\n",
            "Training set date range: 390 -- 395\n",
            "Validation set date range: 396 -- 396\n"
          ]
        },
        {
          "output_type": "stream",
          "name": "stderr",
          "text": [
            "/usr/local/lib/python3.10/dist-packages/statsmodels/base/model.py:607: ConvergenceWarning: Maximum Likelihood optimization failed to converge. Check mle_retvals\n",
            "  warnings.warn(\"Maximum Likelihood optimization failed to \"\n",
            "/usr/local/lib/python3.10/dist-packages/statsmodels/tsa/base/tsa_model.py:836: ValueWarning: No supported index is available. Prediction results will be given with an integer index beginning at `start`.\n",
            "  return get_prediction_index(\n",
            "/usr/local/lib/python3.10/dist-packages/statsmodels/tsa/base/tsa_model.py:473: ValueWarning: An unsupported index was provided and will be ignored when e.g. forecasting.\n",
            "  self._init_dates(dates, freq)\n",
            "/usr/local/lib/python3.10/dist-packages/statsmodels/tsa/base/tsa_model.py:473: ValueWarning: An unsupported index was provided and will be ignored when e.g. forecasting.\n",
            "  self._init_dates(dates, freq)\n",
            "/usr/local/lib/python3.10/dist-packages/statsmodels/tsa/base/tsa_model.py:473: ValueWarning: An unsupported index was provided and will be ignored when e.g. forecasting.\n",
            "  self._init_dates(dates, freq)\n"
          ]
        },
        {
          "output_type": "stream",
          "name": "stdout",
          "text": [
            "[-1.4732698  -3.28085292 -2.80141668 -4.14802963 -2.77802399 -0.62496122\n",
            " -0.64364979 -0.40159425 -0.4229924  -0.39424016 -0.39892472 -0.39533848\n",
            " -0.39614799 -0.39568271 -0.39581028 -0.39574812 -0.39576733 -0.39575885\n",
            " -0.39576167 -0.3957605  -0.39576091 -0.39576075 -0.39576081 -0.39576078\n",
            " -0.39576079 -0.39576079 -0.39576079 -0.39576079 -0.39576079 -0.39576079\n",
            " -0.39576079 -0.39576079 -0.39576079 -0.39576079 -0.39576079 -0.39576079\n",
            " -0.39576079 -0.39576079 -0.39576079 -0.39576079 -0.39576079 -0.39576079\n",
            " -0.39576079 -0.39576079 -0.39576079 -0.39576079 -0.39576079 -0.39576079\n",
            " -0.39576079 -0.39576079 -0.39576079 -0.39576079 -0.39576079 -0.39576079\n",
            " -0.39576079] 4.133813498691827\n",
            "Training set date range: 397 -- 402\n",
            "Validation set date range: 403 -- 403\n"
          ]
        },
        {
          "output_type": "stream",
          "name": "stderr",
          "text": [
            "/usr/local/lib/python3.10/dist-packages/statsmodels/base/model.py:607: ConvergenceWarning: Maximum Likelihood optimization failed to converge. Check mle_retvals\n",
            "  warnings.warn(\"Maximum Likelihood optimization failed to \"\n",
            "/usr/local/lib/python3.10/dist-packages/statsmodels/tsa/base/tsa_model.py:836: ValueWarning: No supported index is available. Prediction results will be given with an integer index beginning at `start`.\n",
            "  return get_prediction_index(\n",
            "/usr/local/lib/python3.10/dist-packages/statsmodels/tsa/base/tsa_model.py:473: ValueWarning: An unsupported index was provided and will be ignored when e.g. forecasting.\n",
            "  self._init_dates(dates, freq)\n",
            "/usr/local/lib/python3.10/dist-packages/statsmodels/tsa/base/tsa_model.py:473: ValueWarning: An unsupported index was provided and will be ignored when e.g. forecasting.\n",
            "  self._init_dates(dates, freq)\n",
            "/usr/local/lib/python3.10/dist-packages/statsmodels/tsa/base/tsa_model.py:473: ValueWarning: An unsupported index was provided and will be ignored when e.g. forecasting.\n",
            "  self._init_dates(dates, freq)\n"
          ]
        },
        {
          "output_type": "stream",
          "name": "stdout",
          "text": [
            "[-0.30563972  1.29015328  1.99386947  1.97135007  1.00862291  0.15703179\n",
            "  0.20738971  0.29570093  0.29545037  0.28656313  0.2861043   0.28697231\n",
            "  0.28706569  0.28698356  0.2869697   0.2869772   0.286979    0.28697834\n",
            "  0.28697813  0.28697818  0.28697821  0.2869782   0.2869782   0.2869782\n",
            "  0.2869782   0.2869782   0.2869782   0.2869782   0.2869782   0.2869782\n",
            "  0.2869782   0.2869782   0.2869782   0.2869782   0.2869782   0.2869782\n",
            "  0.2869782   0.2869782   0.2869782   0.2869782   0.2869782   0.2869782\n",
            "  0.2869782   0.2869782   0.2869782   0.2869782   0.2869782   0.2869782\n",
            "  0.2869782   0.2869782   0.2869782   0.2869782   0.2869782   0.2869782\n",
            "  0.2869782 ] 3.693496728232816\n",
            "Training set date range: 404 -- 409\n",
            "Validation set date range: 410 -- 410\n"
          ]
        },
        {
          "output_type": "stream",
          "name": "stderr",
          "text": [
            "/usr/local/lib/python3.10/dist-packages/statsmodels/tsa/base/tsa_model.py:836: ValueWarning: No supported index is available. Prediction results will be given with an integer index beginning at `start`.\n",
            "  return get_prediction_index(\n",
            "/usr/local/lib/python3.10/dist-packages/statsmodels/tsa/base/tsa_model.py:473: ValueWarning: An unsupported index was provided and will be ignored when e.g. forecasting.\n",
            "  self._init_dates(dates, freq)\n",
            "/usr/local/lib/python3.10/dist-packages/statsmodels/tsa/base/tsa_model.py:473: ValueWarning: An unsupported index was provided and will be ignored when e.g. forecasting.\n",
            "  self._init_dates(dates, freq)\n",
            "/usr/local/lib/python3.10/dist-packages/statsmodels/tsa/base/tsa_model.py:473: ValueWarning: An unsupported index was provided and will be ignored when e.g. forecasting.\n",
            "  self._init_dates(dates, freq)\n"
          ]
        },
        {
          "output_type": "stream",
          "name": "stdout",
          "text": [
            "[4.35167663 3.35192841 2.81619898 2.16164607 0.55328743 0.01395458\n",
            " 0.2932168  0.41079218 0.36354794 0.33862548 0.34635635 0.3515204\n",
            " 0.35031183 0.34926226 0.3494386  0.34964832 0.34962553 0.34958427\n",
            " 0.34958648 0.34959448 0.34959447 0.34959294 0.34959287 0.34959315\n",
            " 0.34959318 0.34959313 0.34959312 0.34959313 0.34959313 0.34959313\n",
            " 0.34959313 0.34959313 0.34959313 0.34959313 0.34959313 0.34959313\n",
            " 0.34959313 0.34959313 0.34959313 0.34959313 0.34959313 0.34959313\n",
            " 0.34959313 0.34959313 0.34959313 0.34959313 0.34959313 0.34959313\n",
            " 0.34959313 0.34959313 0.34959313 0.34959313 0.34959313 0.34959313\n",
            " 0.34959313] 4.8009698354856525\n",
            "Training set date range: 411 -- 416\n",
            "Validation set date range: 417 -- 417\n"
          ]
        },
        {
          "output_type": "stream",
          "name": "stderr",
          "text": [
            "/usr/local/lib/python3.10/dist-packages/statsmodels/base/model.py:607: ConvergenceWarning: Maximum Likelihood optimization failed to converge. Check mle_retvals\n",
            "  warnings.warn(\"Maximum Likelihood optimization failed to \"\n",
            "/usr/local/lib/python3.10/dist-packages/statsmodels/tsa/base/tsa_model.py:836: ValueWarning: No supported index is available. Prediction results will be given with an integer index beginning at `start`.\n",
            "  return get_prediction_index(\n",
            "/usr/local/lib/python3.10/dist-packages/statsmodels/tsa/base/tsa_model.py:473: ValueWarning: An unsupported index was provided and will be ignored when e.g. forecasting.\n",
            "  self._init_dates(dates, freq)\n",
            "/usr/local/lib/python3.10/dist-packages/statsmodels/tsa/base/tsa_model.py:473: ValueWarning: An unsupported index was provided and will be ignored when e.g. forecasting.\n",
            "  self._init_dates(dates, freq)\n",
            "/usr/local/lib/python3.10/dist-packages/statsmodels/tsa/base/tsa_model.py:473: ValueWarning: An unsupported index was provided and will be ignored when e.g. forecasting.\n",
            "  self._init_dates(dates, freq)\n"
          ]
        },
        {
          "output_type": "stream",
          "name": "stdout",
          "text": [
            "[ 6.74001077  4.75528138  3.87535222  4.50302282  5.65860543 -0.10116717\n",
            " -0.5936385  -0.57291333 -0.5659042  -0.56554227 -0.56558727 -0.5655949\n",
            " -0.56559506 -0.56559499 -0.56559498 -0.56559498 -0.56559498 -0.56559498\n",
            " -0.56559498 -0.56559498 -0.56559498 -0.56559498 -0.56559498 -0.56559498\n",
            " -0.56559498 -0.56559498 -0.56559498 -0.56559498 -0.56559498 -0.56559498\n",
            " -0.56559498 -0.56559498 -0.56559498 -0.56559498 -0.56559498 -0.56559498\n",
            " -0.56559498 -0.56559498 -0.56559498 -0.56559498 -0.56559498 -0.56559498\n",
            " -0.56559498 -0.56559498 -0.56559498 -0.56559498 -0.56559498 -0.56559498\n",
            " -0.56559498 -0.56559498 -0.56559498 -0.56559498 -0.56559498 -0.56559498\n",
            " -0.56559498] 5.402565862565499\n",
            "Training set date range: 418 -- 423\n",
            "Validation set date range: 424 -- 424\n"
          ]
        },
        {
          "output_type": "stream",
          "name": "stderr",
          "text": [
            "/usr/local/lib/python3.10/dist-packages/statsmodels/base/model.py:607: ConvergenceWarning: Maximum Likelihood optimization failed to converge. Check mle_retvals\n",
            "  warnings.warn(\"Maximum Likelihood optimization failed to \"\n",
            "/usr/local/lib/python3.10/dist-packages/statsmodels/tsa/base/tsa_model.py:836: ValueWarning: No supported index is available. Prediction results will be given with an integer index beginning at `start`.\n",
            "  return get_prediction_index(\n",
            "/usr/local/lib/python3.10/dist-packages/statsmodels/tsa/base/tsa_model.py:473: ValueWarning: An unsupported index was provided and will be ignored when e.g. forecasting.\n",
            "  self._init_dates(dates, freq)\n",
            "/usr/local/lib/python3.10/dist-packages/statsmodels/tsa/base/tsa_model.py:473: ValueWarning: An unsupported index was provided and will be ignored when e.g. forecasting.\n",
            "  self._init_dates(dates, freq)\n",
            "/usr/local/lib/python3.10/dist-packages/statsmodels/tsa/base/tsa_model.py:473: ValueWarning: An unsupported index was provided and will be ignored when e.g. forecasting.\n",
            "  self._init_dates(dates, freq)\n"
          ]
        },
        {
          "output_type": "stream",
          "name": "stdout",
          "text": [
            "[-8.95011343 -8.02228738 -5.06724663 -2.34538901 -2.97001628 -0.20061372\n",
            "  0.83279207  0.18471337 -0.36257512 -0.30117835 -0.09461503 -0.05471321\n",
            " -0.11403787 -0.14530572 -0.13412107 -0.12005111 -0.11974408 -0.12449737\n",
            " -0.12600767 -0.1248175  -0.12394584 -0.12409801 -0.12444308 -0.12449265\n",
            " -0.1243885  -0.12434066 -0.12436238 -0.12438527 -0.12438455 -0.12437646\n",
            " -0.12437432 -0.12437647 -0.12437784 -0.12437751 -0.12437694 -0.12437688\n",
            " -0.12437706 -0.12437714 -0.12437709 -0.12437706 -0.12437706 -0.12437707\n",
            " -0.12437708 -0.12437707 -0.12437707 -0.12437707 -0.12437707 -0.12437707\n",
            " -0.12437707 -0.12437707 -0.12437707 -0.12437707 -0.12437707 -0.12437707\n",
            " -0.12437707] 4.015291828151427\n",
            "Training set date range: 425 -- 430\n",
            "Validation set date range: 431 -- 431\n"
          ]
        },
        {
          "output_type": "stream",
          "name": "stderr",
          "text": [
            "/usr/local/lib/python3.10/dist-packages/statsmodels/base/model.py:607: ConvergenceWarning: Maximum Likelihood optimization failed to converge. Check mle_retvals\n",
            "  warnings.warn(\"Maximum Likelihood optimization failed to \"\n",
            "/usr/local/lib/python3.10/dist-packages/statsmodels/tsa/base/tsa_model.py:836: ValueWarning: No supported index is available. Prediction results will be given with an integer index beginning at `start`.\n",
            "  return get_prediction_index(\n",
            "/usr/local/lib/python3.10/dist-packages/statsmodels/tsa/base/tsa_model.py:473: ValueWarning: An unsupported index was provided and will be ignored when e.g. forecasting.\n",
            "  self._init_dates(dates, freq)\n",
            "/usr/local/lib/python3.10/dist-packages/statsmodels/tsa/base/tsa_model.py:473: ValueWarning: An unsupported index was provided and will be ignored when e.g. forecasting.\n",
            "  self._init_dates(dates, freq)\n",
            "/usr/local/lib/python3.10/dist-packages/statsmodels/tsa/base/tsa_model.py:473: ValueWarning: An unsupported index was provided and will be ignored when e.g. forecasting.\n",
            "  self._init_dates(dates, freq)\n"
          ]
        },
        {
          "output_type": "stream",
          "name": "stdout",
          "text": [
            "[ 4.37519575  5.93605862  5.11398364  3.72355355  2.39093503 -1.00970357\n",
            " -0.42424793  0.29600882  0.1034297  -0.0433928   0.01242839  0.04097421\n",
            "  0.02596422  0.02076145  0.02459098  0.02544788  0.02451014  0.02439465\n",
            "  0.0246164   0.024624    0.02457321  0.02457573  0.02458701  0.0245855\n",
            "  0.02458307  0.02458362  0.02458412  0.02458396  0.02458386  0.0245839\n",
            "  0.02458392  0.02458391  0.0245839   0.02458391  0.02458391  0.02458391\n",
            "  0.02458391  0.02458391  0.02458391  0.02458391  0.02458391  0.02458391\n",
            "  0.02458391  0.02458391  0.02458391  0.02458391  0.02458391  0.02458391\n",
            "  0.02458391  0.02458391  0.02458391  0.02458391  0.02458391  0.02458391\n",
            "  0.02458391] 3.9858764256940122\n",
            "Training set date range: 432 -- 437\n",
            "Validation set date range: 438 -- 438\n"
          ]
        },
        {
          "output_type": "stream",
          "name": "stderr",
          "text": [
            "/usr/local/lib/python3.10/dist-packages/statsmodels/base/model.py:607: ConvergenceWarning: Maximum Likelihood optimization failed to converge. Check mle_retvals\n",
            "  warnings.warn(\"Maximum Likelihood optimization failed to \"\n",
            "/usr/local/lib/python3.10/dist-packages/statsmodels/tsa/base/tsa_model.py:836: ValueWarning: No supported index is available. Prediction results will be given with an integer index beginning at `start`.\n",
            "  return get_prediction_index(\n",
            "/usr/local/lib/python3.10/dist-packages/statsmodels/tsa/base/tsa_model.py:473: ValueWarning: An unsupported index was provided and will be ignored when e.g. forecasting.\n",
            "  self._init_dates(dates, freq)\n",
            "/usr/local/lib/python3.10/dist-packages/statsmodels/tsa/base/tsa_model.py:473: ValueWarning: An unsupported index was provided and will be ignored when e.g. forecasting.\n",
            "  self._init_dates(dates, freq)\n",
            "/usr/local/lib/python3.10/dist-packages/statsmodels/tsa/base/tsa_model.py:473: ValueWarning: An unsupported index was provided and will be ignored when e.g. forecasting.\n",
            "  self._init_dates(dates, freq)\n"
          ]
        },
        {
          "output_type": "stream",
          "name": "stdout",
          "text": [
            "[0.08835938 0.30913349 0.47471341 1.21310015 0.97868628 0.16963725\n",
            " 0.2678487  0.08836223 0.14020488 0.09499542 0.1134767  0.10111656\n",
            " 0.10703114 0.10349733 0.10531452 0.10428156 0.10483041 0.1045253\n",
            " 0.10468983 0.10459928 0.10464844 0.1046215  0.10463617 0.10462815\n",
            " 0.10463252 0.10463013 0.10463144 0.10463073 0.10463111 0.1046309\n",
            " 0.10463102 0.10463095 0.10463099 0.10463097 0.10463098 0.10463098\n",
            " 0.10463098 0.10463098 0.10463098 0.10463098 0.10463098 0.10463098\n",
            " 0.10463098 0.10463098 0.10463098 0.10463098 0.10463098 0.10463098\n",
            " 0.10463098 0.10463098 0.10463098 0.10463098 0.10463098 0.10463098\n",
            " 0.10463098] 4.165189219029385\n",
            "Training set date range: 439 -- 444\n",
            "Validation set date range: 445 -- 445\n"
          ]
        },
        {
          "output_type": "stream",
          "name": "stderr",
          "text": [
            "/usr/local/lib/python3.10/dist-packages/statsmodels/tsa/base/tsa_model.py:836: ValueWarning: No supported index is available. Prediction results will be given with an integer index beginning at `start`.\n",
            "  return get_prediction_index(\n",
            "/usr/local/lib/python3.10/dist-packages/statsmodels/tsa/base/tsa_model.py:473: ValueWarning: An unsupported index was provided and will be ignored when e.g. forecasting.\n",
            "  self._init_dates(dates, freq)\n",
            "/usr/local/lib/python3.10/dist-packages/statsmodels/tsa/base/tsa_model.py:473: ValueWarning: An unsupported index was provided and will be ignored when e.g. forecasting.\n",
            "  self._init_dates(dates, freq)\n",
            "/usr/local/lib/python3.10/dist-packages/statsmodels/tsa/base/tsa_model.py:473: ValueWarning: An unsupported index was provided and will be ignored when e.g. forecasting.\n",
            "  self._init_dates(dates, freq)\n"
          ]
        },
        {
          "output_type": "stream",
          "name": "stdout",
          "text": [
            "[-3.09385346  1.72152251 -0.31836913 -1.38562989 -1.35982711 -0.74549192\n",
            " -0.70396757 -0.76146687 -0.76967896 -0.76460752 -0.76343533 -0.7638505\n",
            " -0.76399568 -0.76396522 -0.76394874 -0.76395056 -0.76395231 -0.76395226\n",
            " -0.76395208 -0.76395207 -0.76395209 -0.76395209 -0.76395209 -0.76395209\n",
            " -0.76395209 -0.76395209 -0.76395209 -0.76395209 -0.76395209 -0.76395209\n",
            " -0.76395209 -0.76395209 -0.76395209 -0.76395209 -0.76395209 -0.76395209\n",
            " -0.76395209 -0.76395209 -0.76395209 -0.76395209 -0.76395209 -0.76395209\n",
            " -0.76395209 -0.76395209 -0.76395209 -0.76395209 -0.76395209 -0.76395209\n",
            " -0.76395209 -0.76395209 -0.76395209 -0.76395209 -0.76395209 -0.76395209\n",
            " -0.76395209] 2.670455060472733\n",
            "Training set date range: 446 -- 451\n",
            "Validation set date range: 452 -- 452\n"
          ]
        },
        {
          "output_type": "stream",
          "name": "stderr",
          "text": [
            "/usr/local/lib/python3.10/dist-packages/statsmodels/base/model.py:607: ConvergenceWarning: Maximum Likelihood optimization failed to converge. Check mle_retvals\n",
            "  warnings.warn(\"Maximum Likelihood optimization failed to \"\n",
            "/usr/local/lib/python3.10/dist-packages/statsmodels/tsa/base/tsa_model.py:836: ValueWarning: No supported index is available. Prediction results will be given with an integer index beginning at `start`.\n",
            "  return get_prediction_index(\n",
            "/usr/local/lib/python3.10/dist-packages/statsmodels/tsa/base/tsa_model.py:473: ValueWarning: An unsupported index was provided and will be ignored when e.g. forecasting.\n",
            "  self._init_dates(dates, freq)\n",
            "/usr/local/lib/python3.10/dist-packages/statsmodels/tsa/base/tsa_model.py:473: ValueWarning: An unsupported index was provided and will be ignored when e.g. forecasting.\n",
            "  self._init_dates(dates, freq)\n",
            "/usr/local/lib/python3.10/dist-packages/statsmodels/tsa/base/tsa_model.py:473: ValueWarning: An unsupported index was provided and will be ignored when e.g. forecasting.\n",
            "  self._init_dates(dates, freq)\n"
          ]
        },
        {
          "output_type": "stream",
          "name": "stdout",
          "text": [
            "[-3.54871278 -2.50993465 -2.20726021 -1.01080989 -1.49399234  0.14788104\n",
            "  0.35914066  0.1367077   0.08672981  0.11503656  0.1247795   0.12146663\n",
            "  0.11975598  0.1200949   0.12037448  0.12034876  0.1203056   0.12030568\n",
            "  0.12031201  0.12031254  0.12031166  0.1203115   0.12031162  0.12031165\n",
            "  0.12031164  0.12031163  0.12031163  0.12031163  0.12031163  0.12031163\n",
            "  0.12031163  0.12031163  0.12031163  0.12031163  0.12031163  0.12031163\n",
            "  0.12031163  0.12031163  0.12031163  0.12031163  0.12031163  0.12031163\n",
            "  0.12031163  0.12031163  0.12031163  0.12031163  0.12031163  0.12031163\n",
            "  0.12031163  0.12031163  0.12031163  0.12031163  0.12031163  0.12031163\n",
            "  0.12031163] 3.958757440147134\n",
            "Training set date range: 453 -- 458\n",
            "Validation set date range: 459 -- 459\n"
          ]
        },
        {
          "output_type": "stream",
          "name": "stderr",
          "text": [
            "/usr/local/lib/python3.10/dist-packages/statsmodels/base/model.py:607: ConvergenceWarning: Maximum Likelihood optimization failed to converge. Check mle_retvals\n",
            "  warnings.warn(\"Maximum Likelihood optimization failed to \"\n",
            "/usr/local/lib/python3.10/dist-packages/statsmodels/tsa/base/tsa_model.py:836: ValueWarning: No supported index is available. Prediction results will be given with an integer index beginning at `start`.\n",
            "  return get_prediction_index(\n",
            "/usr/local/lib/python3.10/dist-packages/statsmodels/tsa/base/tsa_model.py:473: ValueWarning: An unsupported index was provided and will be ignored when e.g. forecasting.\n",
            "  self._init_dates(dates, freq)\n",
            "/usr/local/lib/python3.10/dist-packages/statsmodels/tsa/base/tsa_model.py:473: ValueWarning: An unsupported index was provided and will be ignored when e.g. forecasting.\n",
            "  self._init_dates(dates, freq)\n",
            "/usr/local/lib/python3.10/dist-packages/statsmodels/tsa/base/tsa_model.py:473: ValueWarning: An unsupported index was provided and will be ignored when e.g. forecasting.\n",
            "  self._init_dates(dates, freq)\n"
          ]
        },
        {
          "output_type": "stream",
          "name": "stdout",
          "text": [
            "[14.4802322  10.60491428 11.14276473  8.26586898  6.80193079  0.41642217\n",
            "  0.18535886  0.36793307  0.38276857  0.37790307  0.37724606  0.37736445\n",
            "  0.37738936  0.37738686  0.37738601  0.37738604  0.37738607  0.37738607\n",
            "  0.37738607  0.37738607  0.37738607  0.37738607  0.37738607  0.37738607\n",
            "  0.37738607  0.37738607  0.37738607  0.37738607  0.37738607  0.37738607\n",
            "  0.37738607  0.37738607  0.37738607  0.37738607  0.37738607  0.37738607\n",
            "  0.37738607  0.37738607  0.37738607  0.37738607  0.37738607  0.37738607\n",
            "  0.37738607  0.37738607  0.37738607  0.37738607  0.37738607  0.37738607\n",
            "  0.37738607  0.37738607  0.37738607  0.37738607  0.37738607  0.37738607\n",
            "  0.37738607] 4.113950190321296\n",
            "Training set date range: 460 -- 465\n",
            "Validation set date range: 466 -- 466\n"
          ]
        },
        {
          "output_type": "stream",
          "name": "stderr",
          "text": [
            "/usr/local/lib/python3.10/dist-packages/statsmodels/tsa/base/tsa_model.py:836: ValueWarning: No supported index is available. Prediction results will be given with an integer index beginning at `start`.\n",
            "  return get_prediction_index(\n",
            "/usr/local/lib/python3.10/dist-packages/statsmodels/tsa/base/tsa_model.py:473: ValueWarning: An unsupported index was provided and will be ignored when e.g. forecasting.\n",
            "  self._init_dates(dates, freq)\n",
            "/usr/local/lib/python3.10/dist-packages/statsmodels/tsa/base/tsa_model.py:473: ValueWarning: An unsupported index was provided and will be ignored when e.g. forecasting.\n",
            "  self._init_dates(dates, freq)\n",
            "/usr/local/lib/python3.10/dist-packages/statsmodels/tsa/base/tsa_model.py:473: ValueWarning: An unsupported index was provided and will be ignored when e.g. forecasting.\n",
            "  self._init_dates(dates, freq)\n"
          ]
        },
        {
          "output_type": "stream",
          "name": "stdout",
          "text": [
            "[-7.73042685 -6.90228047 -5.16044106 -3.21064723 -2.14330668 -1.34662096\n",
            " -1.56841412 -1.67556361 -1.63365254 -1.62010575 -1.62754616 -1.62910567\n",
            " -1.62784526 -1.62769462 -1.62790001 -1.62790858 -1.62787625 -1.62787724\n",
            " -1.62788216 -1.62788166 -1.62788093 -1.62788106 -1.62788116 -1.62788114\n",
            " -1.62788112 -1.62788113 -1.62788113 -1.62788113 -1.62788113 -1.62788113\n",
            " -1.62788113 -1.62788113 -1.62788113 -1.62788113 -1.62788113 -1.62788113\n",
            " -1.62788113 -1.62788113 -1.62788113 -1.62788113 -1.62788113 -1.62788113\n",
            " -1.62788113 -1.62788113 -1.62788113 -1.62788113 -1.62788113 -1.62788113\n",
            " -1.62788113 -1.62788113 -1.62788113 -1.62788113 -1.62788113 -1.62788113\n",
            " -1.62788113] 4.268971079257832\n",
            "Training set date range: 467 -- 472\n",
            "Validation set date range: 473 -- 473\n"
          ]
        },
        {
          "output_type": "stream",
          "name": "stderr",
          "text": [
            "/usr/local/lib/python3.10/dist-packages/statsmodels/base/model.py:607: ConvergenceWarning: Maximum Likelihood optimization failed to converge. Check mle_retvals\n",
            "  warnings.warn(\"Maximum Likelihood optimization failed to \"\n",
            "/usr/local/lib/python3.10/dist-packages/statsmodels/tsa/base/tsa_model.py:836: ValueWarning: No supported index is available. Prediction results will be given with an integer index beginning at `start`.\n",
            "  return get_prediction_index(\n"
          ]
        },
        {
          "output_type": "stream",
          "name": "stdout",
          "text": [
            "[3.94363947 2.25513159 2.68147173 0.87025787 0.58497838 0.67049675\n",
            " 0.67766439 0.66977539 0.67059982 0.6710676  0.67092178 0.670911\n",
            " 0.6709242  0.67092273 0.67092196 0.67092221 0.67092223 0.6709222\n",
            " 0.67092221 0.67092221 0.67092221 0.67092221 0.67092221 0.67092221\n",
            " 0.67092221 0.67092221 0.67092221 0.67092221 0.67092221 0.67092221\n",
            " 0.67092221 0.67092221 0.67092221 0.67092221 0.67092221 0.67092221\n",
            " 0.67092221 0.67092221 0.67092221 0.67092221 0.67092221 0.67092221\n",
            " 0.67092221 0.67092221 0.67092221 0.67092221 0.67092221 0.67092221\n",
            " 0.67092221 0.67092221 0.67092221 0.67092221 0.67092221 0.67092221\n",
            " 0.67092221] 3.291719350862301\n",
            "Training set date range: 474 -- 479\n",
            "Validation set date range: 480 -- 480\n"
          ]
        },
        {
          "output_type": "stream",
          "name": "stderr",
          "text": [
            "/usr/local/lib/python3.10/dist-packages/statsmodels/tsa/base/tsa_model.py:473: ValueWarning: An unsupported index was provided and will be ignored when e.g. forecasting.\n",
            "  self._init_dates(dates, freq)\n",
            "/usr/local/lib/python3.10/dist-packages/statsmodels/tsa/base/tsa_model.py:473: ValueWarning: An unsupported index was provided and will be ignored when e.g. forecasting.\n",
            "  self._init_dates(dates, freq)\n",
            "/usr/local/lib/python3.10/dist-packages/statsmodels/tsa/base/tsa_model.py:473: ValueWarning: An unsupported index was provided and will be ignored when e.g. forecasting.\n",
            "  self._init_dates(dates, freq)\n"
          ]
        },
        {
          "output_type": "stream",
          "name": "stdout",
          "text": [
            "[ 3.78525568  3.26008466  3.1587133   0.99630783 -0.02270353 -1.49794763\n",
            " -0.94763551 -0.80891013 -0.94492711 -0.93733001 -0.91397168 -0.92110212\n",
            " -0.92368639 -0.92173127 -0.92173104 -0.9220936  -0.92200483 -0.92195935\n",
            " -0.92198695 -0.92198862 -0.9219831  -0.92198414 -0.92198491 -0.92198453\n",
            " -0.92198448 -0.92198456 -0.92198455 -0.92198454 -0.92198454 -0.92198454\n",
            " -0.92198454 -0.92198454 -0.92198454 -0.92198454 -0.92198454 -0.92198454\n",
            " -0.92198454 -0.92198454 -0.92198454 -0.92198454 -0.92198454 -0.92198454\n",
            " -0.92198454 -0.92198454 -0.92198454 -0.92198454 -0.92198454 -0.92198454\n",
            " -0.92198454 -0.92198454 -0.92198454 -0.92198454 -0.92198454 -0.92198454\n",
            " -0.92198454] 3.2754535624398278\n",
            "CV Val MAE: 4.522616776568709\n",
            "CV Val MSE: 36.72773816005741\n"
          ]
        },
        {
          "output_type": "stream",
          "name": "stderr",
          "text": [
            "/usr/local/lib/python3.10/dist-packages/statsmodels/tsa/base/tsa_model.py:836: ValueWarning: No supported index is available. Prediction results will be given with an integer index beginning at `start`.\n",
            "  return get_prediction_index(\n"
          ]
        }
      ],
      "source": [
        "import os\n",
        "import glob\n",
        "from joblib import Parallel, delayed\n",
        "import pandas as pd\n",
        "import numpy as np\n",
        "import scipy as sc\n",
        "from sklearn.model_selection import KFold\n",
        "import warnings\n",
        "warnings.filterwarnings('ignore')\n",
        "from tqdm import tqdm\n",
        "import joblib\n",
        "from statsmodels.tsa.arima.model import ARIMA as ARIMA\n",
        "from arch import arch_model\n",
        "from sklearn.metrics import r2_score\n",
        "pd.set_option('display.max_rows', 100)\n",
        "pd.set_option('display.max_columns', 200)\n",
        "pd.options.mode.chained_assignment = None\n",
        "PATH_DATASET = \"/content/drive/MyDrive/MLProject/optiver-trading-at-the-close\"\n",
        "\n",
        "def gts_cv(date_ids, holdout_size):\n",
        "\n",
        "    X = date_ids[['date_id']]\n",
        "    groups = X['date_id'].values\n",
        "    unique_date_ids = np.unique(groups)\n",
        "    array_split_date_ids = np.array_split(unique_date_ids, len(unique_date_ids) // holdout_size)[::-1]\n",
        "    array_split_date_ids = np.flip(array_split_date_ids)\n",
        "\n",
        "    for date_ids in array_split_date_ids:\n",
        "\n",
        "\n",
        "        test_condition = X['date_id'].isin(np.array([date_ids[-1]]))\n",
        "        val_index = X.loc[test_condition].index\n",
        "        train_condition = X['date_id'].isin(date_ids)\n",
        "        train_index = X.loc[train_condition].index\n",
        "        train_index = pd.Index(set(train_index)- set(val_index))\n",
        "\n",
        "\n",
        "        yield train_index, val_index\n",
        "\n",
        "\n",
        "def mae(y_true, y_pred):\n",
        "    return np.abs(y_true - y_pred).mean()\n",
        "\n",
        "\n",
        "def feval_mae(y_pred, lgb_train):\n",
        "    y_true = lgb_train.get_label()\n",
        "    return 'MAE', mae(y_true, y_pred), False\n",
        "\n",
        "def mse(y_true, y_pred):\n",
        "    return ((y_true - y_pred) ** 2).mean()\n",
        "\n",
        "\n",
        "\n",
        "def train_and_evaluate_ARIMA(train):\n",
        "\n",
        "    train = train[train['stock_id'] == 0]\n",
        "    date_ids_train = train[['date_id','target']].reset_index(drop=True)\n",
        "\n",
        "    cvs_dict = {'Fold': [],  'MAE_val': [],'MSE_val':[]}\n",
        "    cv = gts_cv(date_ids_train, holdout_size=7)\n",
        "    fold = 1\n",
        "    for train_index, val_index in cv:\n",
        "\n",
        "        target_train_cv, target_val_cv = date_ids_train.iloc[train_index], date_ids_train.iloc[val_index]\n",
        "\n",
        "\n",
        "        print(\"Training set date range: {} -- {}\".format(target_train_cv.date_id.min(),target_train_cv.date_id.max()))\n",
        "        print(\"Validation set date range: {} -- {}\".format(target_val_cv.date_id.min(),target_val_cv.date_id.max()))\n",
        "\n",
        "        target_train_cv =target_train_cv.drop(['date_id'], axis = 1)\n",
        "        target_val_cv = target_val_cv.drop(['date_id'], axis = 1)\n",
        "\n",
        "\n",
        "        model = ARIMA(target_train_cv, order=(2, 1, 6))\n",
        "        fitted = model.fit()\n",
        "        fc = fitted.forecast(len(target_val_cv))\n",
        "        score=mae(fc.values,target_val_cv.values)\n",
        "        mse_score=mse(fc.values,target_val_cv.values)\n",
        "        print(fc.values,score)\n",
        "        cvs_dict['Fold'].append(fold)\n",
        "        cvs_dict['MAE_val'].append(score)\n",
        "        cvs_dict['MSE_val'].append(mse_score)\n",
        "        fold += 1\n",
        "        true_values = target_val_cv.values\n",
        "        mean_true_values = np.mean(true_values)\n",
        "        variance_true_values = np.mean((true_values - mean_true_values) ** 2)\n",
        "\n",
        "\n",
        "    print(f'CV Val MAE:',np.asarray(cvs_dict['MAE_val']).mean())\n",
        "    print(f'CV Val MSE:',np.asarray(cvs_dict['MSE_val']).mean())\n",
        "    return model\n",
        "\n",
        "\n",
        "dtypes = {\n",
        "    'stock_id' : np.uint8,\n",
        "    'date_id' : np.uint16,\n",
        "    'seconds_in_bucket' : np.uint16,\n",
        "    'imbalance_buy_sell_flag' : np.int8,\n",
        "    'time_id' : np.uint16\n",
        "    }\n",
        "\n",
        "# df =  pd.read_csv('/content/drive/MyDrive/MLProject/data_after_preprocessing (4).csv')\n",
        "df =  pd.read_csv(os. path.join(PATH_DATASET, \"train.csv\"))\n",
        "model=train_and_evaluate_ARIMA(df)\n"
      ]
    },
    {
      "cell_type": "code",
      "source": [
        "import pickle\n",
        "\n",
        "# Assuming 'model' is your trained model object (e.g., ARIMA or GARCH)\n",
        "# Save the model to a file\n",
        "with open('arima_model.pkl', 'wb') as file:\n",
        "    pickle.dump(model, file)"
      ],
      "metadata": {
        "id": "uJNvXoe8BnlT"
      },
      "execution_count": 3,
      "outputs": []
    }
  ]
}